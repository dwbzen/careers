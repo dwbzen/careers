{
 "cells": [
  {
   "cell_type": "code",
   "execution_count": 1,
   "id": "b6f32d42",
   "metadata": {},
   "outputs": [],
   "source": [
    "import argparse, string, pathlib\n",
    "import json, re, random, sys\n",
    "import joblib, jsonpickle\n",
    "from careers.game import GameRunner, CareersGame"
   ]
  },
  {
   "cell_type": "code",
   "execution_count": 2,
   "id": "034ecdf6",
   "metadata": {},
   "outputs": [],
   "source": [
    "# execute self.save(\"pkl\")\n",
    "# 20220909_1247  game saved to ['/data/games/ZenAlien2013_20220909-124721-555368-33134_game.pkl']\n",
    "#filename = '/data/games/ZenAlien2013_20220909-124721-555368-33134_game.pkl'\n",
    "#filename = '/data/games/ZenAlien2013_20220909-123617-892182-56278_game.pkl'\n",
    "filename = '/data/games/ZenAlien2013_20220909-152434-375036-25054_game.pkl'\n",
    "careers_game = joblib.load(filename)"
   ]
  },
  {
   "cell_type": "code",
   "execution_count": 3,
   "id": "ab3e866a",
   "metadata": {},
   "outputs": [
    {
     "data": {
      "text/plain": [
       "{\n",
       "  \"py/object\": \"game.player.Player\",\n",
       "  \"_player_name\": \"Don\",\n",
       "  \"_player_initials\": \"DWB\",\n",
       "  \"_salary_history\": [\n",
       "    2000,\n",
       "    2000\n",
       "  ],\n",
       "  \"_salary\": 2000,\n",
       "  \"_cash\": 2000,\n",
       "  \"_success_formula\": {\n",
       "    \"py/object\": \"game.successFormula.SuccessFormula\",\n",
       "    \"_fame\": 40,\n",
       "    \"_happiness\": 10,\n",
       "    \"_cash\": 50,\n",
       "    \"_game_total_points\": 100\n",
       "  },\n",
       "  \"_happiness\": [\n",
       "    0\n",
       "  ],\n",
       "  \"_fame\": [\n",
       "    0\n",
       "  ],\n",
       "  \"_number\": 0,\n",
       "  \"_my_experience_cards\": [],\n",
       "  \"_my_opportunity_cards\": [\n",
       "    {\n",
       "      \"py/object\": \"game.opportunityCard.OpportunityCard\",\n",
       "      \"_opportunity_type\": \"action\",\n",
       "      \"_destination\": null,\n",
       "      \"_text\": \"SPECIAL OPPORTUNITY to Get an Extra Turn\\nPlay at the start of your turn\\nMay save or sell.\",\n",
       "      \"_expenses_paid\": false,\n",
       "      \"_double_happiness\": false,\n",
       "      \"_action_type\": \"extra_turn\",\n",
       "      \"_ncard\": 3,\n",
       "      \"_number\": 27\n",
       "    }\n",
       "  ],\n",
       "  \"_my_degrees\": {},\n",
       "  \"_board_location\": {\n",
       "    \"py/object\": \"game.boardLocation.BoardLocation\",\n",
       "    \"_border_square_number\": 13,\n",
       "    \"_border_square_name\": \"Amazon\",\n",
       "    \"_occupation_name\": null,\n",
       "    \"_occupation_square_number\": 0,\n",
       "    \"_prior_border_square_number\": null,\n",
       "    \"_prior_border_square_name\": null,\n",
       "    \"_prior_occupation_square_number\": null,\n",
       "    \"_prior_occupation_name\": null\n",
       "  },\n",
       "  \"_can_retire\": false,\n",
       "  \"_is_insured\": false,\n",
       "  \"_is_unemployed\": false,\n",
       "  \"_is_sick\": false,\n",
       "  \"_lose_turn\": false,\n",
       "  \"_occupation_record\": {},\n",
       "  \"_loans\": {},\n",
       "  \"_opportunity_card\": null,\n",
       "  \"_experience_card\": null,\n",
       "  \"_laps\": 0\n",
       "}"
      ]
     },
     "execution_count": 3,
     "metadata": {},
     "output_type": "execute_result"
    }
   ],
   "source": [
    "gs = careers_game.game_state\n",
    "gs.players[0]  # calls __repr__()"
   ]
  },
  {
   "cell_type": "code",
   "execution_count": 8,
   "id": "ed4dff42",
   "metadata": {},
   "outputs": [
    {
     "name": "stdout",
     "output_type": "stream",
     "text": [
      "{\n",
      "  \"name\": \"Don\",\n",
      "  \"number\": 0,\n",
      "  \"initials\": \"DWB\",\n",
      "  \"successFormula\": {\n",
      "    \"cash\": 50,\n",
      "    \"fame\": 40,\n",
      "    \"happiness\": 10\n",
      "  },\n",
      "  \"score\": {\n",
      "    \"cash\": 2000,\n",
      "    \"fame\": 0,\n",
      "    \"happiness\": 0,\n",
      "    \"total_points\": 2,\n",
      "    \"is_insured\": false\n",
      "  },\n",
      "  \"loans\": {},\n",
      "  \"board_location\": {\n",
      "    \"border_square_number\": 13,\n",
      "    \"border_square_name\": \"Amazon\",\n",
      "    \"occupation_square_number\": 0,\n",
      "    \"occupation_name\": null\n",
      "  },\n",
      "  \"is_sick\": false,\n",
      "  \"is_unemployed\": false,\n",
      "  \"occupation_record\": {}\n",
      "}\n"
     ]
    }
   ],
   "source": [
    "print(gs.players[0].to_JSON())"
   ]
  },
  {
   "cell_type": "code",
   "execution_count": 31,
   "id": "4e83d4de",
   "metadata": {},
   "outputs": [
    {
     "data": {
      "text/plain": [
       "game.gameState.GameState"
      ]
     },
     "execution_count": 31,
     "metadata": {},
     "output_type": "execute_result"
    }
   ],
   "source": [
    "type(gs)"
   ]
  },
  {
   "cell_type": "code",
   "execution_count": 32,
   "id": "26c83936",
   "metadata": {},
   "outputs": [
    {
     "data": {
      "text/plain": [
       "game.careersGame.CareersGame"
      ]
     },
     "execution_count": 32,
     "metadata": {},
     "output_type": "execute_result"
    }
   ],
   "source": [
    "type(careers_game)"
   ]
  },
  {
   "cell_type": "code",
   "execution_count": 33,
   "id": "eb4ffac0",
   "metadata": {},
   "outputs": [
    {
     "data": {
      "text/plain": [
       "{\n",
       "  \"game_type\": \"points\",\n",
       "  \"number_of_players\": 2,\n",
       "  \"current_player_number\": 0,\n",
       "  \"turns\": 3,\n",
       "  \"turn_number\": 4,\n",
       "  \"total_points\": 100,\n",
       "  \"seconds_remaining\": 0,\n",
       "  \"game_complete\": false,\n",
       "  \"players\": [\n",
       "    {\n",
       "      \"name\": \"Don\",\n",
       "      \"number\": 0,\n",
       "      \"initials\": \"DWB\",\n",
       "      \"successFormula\": {\n",
       "        \"cash\": 50,\n",
       "        \"fame\": 40,\n",
       "        \"happiness\": 10\n",
       "      },\n",
       "      \"score\": {\n",
       "        \"cash\": 2000,\n",
       "        \"fame\": 0,\n",
       "        \"happiness\": 0,\n",
       "        \"is_insured\": false\n",
       "      },\n",
       "      \"loans\": {},\n",
       "      \"board_location\": {\n",
       "        \"border_square_number\": 13,\n",
       "        \"border_square_name\": \"Amazon\",\n",
       "        \"occupation_square_number\": 0,\n",
       "        \"occupation_name\": null\n",
       "      }\n",
       "    },\n",
       "    {\n",
       "      \"name\": \"Brian\",\n",
       "      \"number\": 1,\n",
       "      \"initials\": \"BDB\",\n",
       "      \"successFormula\": {\n",
       "        \"cash\": 40,\n",
       "        \"fame\": 20,\n",
       "        \"happiness\": 40\n",
       "      },\n",
       "      \"score\": {\n",
       "        \"cash\": 2000,\n",
       "        \"fame\": 0,\n",
       "        \"happiness\": 0,\n",
       "        \"is_insured\": false\n",
       "      },\n",
       "      \"loans\": {},\n",
       "      \"board_location\": {\n",
       "        \"border_square_number\": 16,\n",
       "        \"border_square_name\": \"Opportunity\",\n",
       "        \"occupation_square_number\": 0,\n",
       "        \"occupation_name\": null\n",
       "      }\n",
       "    }\n",
       "  ]\n",
       "}"
      ]
     },
     "execution_count": 33,
     "metadata": {},
     "output_type": "execute_result"
    }
   ],
   "source": [
    "careers_game.game_state"
   ]
  },
  {
   "cell_type": "code",
   "execution_count": null,
   "id": "a71862ea",
   "metadata": {},
   "outputs": [],
   "source": []
  }
 ],
 "metadata": {
  "kernelspec": {
   "display_name": "Python 3",
   "language": "python",
   "name": "python3"
  },
  "language_info": {
   "codemirror_mode": {
    "name": "ipython",
    "version": 3
   },
   "file_extension": ".py",
   "mimetype": "text/x-python",
   "name": "python",
   "nbconvert_exporter": "python",
   "pygments_lexer": "ipython3",
   "version": "3.9.13"
  }
 },
 "nbformat": 4,
 "nbformat_minor": 5
}
