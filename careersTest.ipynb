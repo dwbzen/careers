{
 "cells": [
  {
   "cell_type": "code",
   "execution_count": 68,
   "id": "b6f32d42",
   "metadata": {},
   "outputs": [],
   "source": [
    "import argparse, string, pathlib\n",
    "import json, re, random, sys\n",
    "import joblib, jsonpickle\n",
    "from careers.game import GameRunner, CareersGame, CareersGameEngine, GameEngineCommands\n",
    "from typing import Dict, List\n",
    "import importlib\n",
    "import pkgutil\n"
   ]
  },
  {
   "cell_type": "code",
   "execution_count": 2,
   "id": "034ecdf6",
   "metadata": {},
   "outputs": [],
   "source": [
    "# execute self.save(\"pkl\")\n",
    "\n",
    "filename = 'games/ZenAlien2013_20221221-105511-342409-12764_game.pkl'\n",
    "careers_game = joblib.load(filename)"
   ]
  },
  {
   "cell_type": "code",
   "execution_count": 3,
   "id": "ab3e866a",
   "metadata": {},
   "outputs": [
    {
     "data": {
      "text/plain": [
       "{\n",
       "  \"py/object\": \"game.player.Player\",\n",
       "  \"_player_name\": \"Brian\",\n",
       "  \"_player_initials\": \"BDB\",\n",
       "  \"_salary_history\": [\n",
       "    2000,\n",
       "    2000,\n",
       "    5000\n",
       "  ],\n",
       "  \"_starting_cash\": 10000,\n",
       "  \"_starting_salary\": 5000,\n",
       "  \"_cash\": 6500,\n",
       "  \"_salary\": 5000,\n",
       "  \"_success_formula\": {\n",
       "    \"py/object\": \"game.successFormula.SuccessFormula\",\n",
       "    \"_stars\": 50,\n",
       "    \"_hearts\": 20,\n",
       "    \"_money\": 30,\n",
       "    \"_game_total_points\": 100\n",
       "  },\n",
       "  \"_player_id\": \"bdb20221206\",\n",
       "  \"_player_email\": \"brian.bacon01@gmail.com\",\n",
       "  \"_number\": 1,\n",
       "  \"_laps\": 1,\n",
       "  \"_my_degrees\": {},\n",
       "  \"_board_location\": {\n",
       "    \"py/object\": \"game.boardLocation.BoardLocation\",\n",
       "    \"_border_square_number\": 2,\n",
       "    \"_border_square_name\": \"IncomeTax\",\n",
       "    \"_occupation_name\": null,\n",
       "    \"_occupation_square_number\": 12,\n",
       "    \"_prior_border_square_number\": null,\n",
       "    \"_prior_border_square_name\": null,\n",
       "    \"_prior_occupation_square_number\": null,\n",
       "    \"_prior_occupation_name\": null\n",
       "  },\n",
       "  \"_can_retire\": false,\n",
       "  \"_is_insured\": false,\n",
       "  \"_is_unemployed\": false,\n",
       "  \"_is_sick\": false,\n",
       "  \"_on_holiday\": false,\n",
       "  \"_lose_turn\": false,\n",
       "  \"_extra_turn\": 0,\n",
       "  \"_can_roll\": false,\n",
       "  \"_can_use_opportunity\": true,\n",
       "  \"_opportunity_card\": null,\n",
       "  \"_experience_card\": null,\n",
       "  \"_can_bump\": [],\n",
       "  \"_pending_actions\": {\n",
       "    \"py/object\": \"game.pendingActions.PendingActions\",\n",
       "    \"_pending_actions\": []\n",
       "  },\n",
       "  \"_my_experience_cards\": [\n",
       "    {\n",
       "      \"py/object\": \"game.experienceCard.ExperienceCard\",\n",
       "      \"_number\": 3,\n",
       "      \"_card_type\": {\n",
       "        \"py/reduce\": [\n",
       "          {\n",
       "            \"py/type\": \"game.experienceCard.ExperienceType\"\n",
       "          },\n",
       "          {\n",
       "            \"py/tuple\": [\n",
       "              \"fixed\"\n",
       "            ]\n",
       "          }\n",
       "        ]\n",
       "      },\n",
       "      \"_spaces\": -2,\n",
       "      \"_ncard\": 6,\n",
       "      \"_range\": [\n",
       "        1,\n",
       "        2,\n",
       "        3,\n",
       "        4,\n",
       "        5,\n",
       "        6,\n",
       "        7\n",
       "      ]\n",
       "    },\n",
       "    {\n",
       "      \"py/object\": \"game.experienceCard.ExperienceCard\",\n",
       "      \"_number\": 5,\n",
       "      \"_card_type\": {\n",
       "        \"py/id\": 10\n",
       "      },\n",
       "      \"_spaces\": 4,\n",
       "      \"_ncard\": 2,\n",
       "      \"_range\": [\n",
       "        1,\n",
       "        2,\n",
       "        3,\n",
       "        4,\n",
       "        5,\n",
       "        6,\n",
       "        7\n",
       "      ]\n",
       "    },\n",
       "    {\n",
       "      \"py/object\": \"game.experienceCard.ExperienceCard\",\n",
       "      \"_number\": 5,\n",
       "      \"_card_type\": {\n",
       "        \"py/id\": 10\n",
       "      },\n",
       "      \"_spaces\": 4,\n",
       "      \"_ncard\": 5,\n",
       "      \"_range\": [\n",
       "        1,\n",
       "        2,\n",
       "        3,\n",
       "        4,\n",
       "        5,\n",
       "        6,\n",
       "        7\n",
       "      ]\n",
       "    }\n",
       "  ],\n",
       "  \"_my_opportunity_cards\": [\n",
       "    {\n",
       "      \"py/object\": \"game.opportunityCard.OpportunityCard\",\n",
       "      \"_opportunity_type\": {\n",
       "        \"py/reduce\": [\n",
       "          {\n",
       "            \"py/type\": \"game.opportunityCard.OpportunityType\"\n",
       "          },\n",
       "          {\n",
       "            \"py/tuple\": [\n",
       "              \"occupation_choice\"\n",
       "            ]\n",
       "          }\n",
       "        ]\n",
       "      },\n",
       "      \"_action_type\": null,\n",
       "      \"_destination\": null,\n",
       "      \"_text\": \"GOLDEN  OPPORTUNITY to join the Company of your choice\\nMeet Normal Requirements\",\n",
       "      \"_expenses_paid\": false,\n",
       "      \"_double_happiness\": false,\n",
       "      \"_ncard\": 14,\n",
       "      \"_number\": 16,\n",
       "      \"_special_processing_dict\": {\n",
       "        \"type\": \"choose_occupation\",\n",
       "        \"pending_action\": \"choose_occupation\",\n",
       "        \"choices\": \"*Occupation\"\n",
       "      },\n",
       "      \"_special_processing_type\": {\n",
       "        \"py/reduce\": [\n",
       "          {\n",
       "            \"py/type\": \"game.opportunityCard.OpportunitySpecialProcessingType\"\n",
       "          },\n",
       "          {\n",
       "            \"py/tuple\": [\n",
       "              \"choose_occupation\"\n",
       "            ]\n",
       "          }\n",
       "        ]\n",
       "      },\n",
       "      \"_pending_action\": {\n",
       "        \"py/reduce\": [\n",
       "          {\n",
       "            \"py/type\": \"game.gameConstants.PendingActionType\"\n",
       "          },\n",
       "          {\n",
       "            \"py/tuple\": [\n",
       "              \"choose_occupation\"\n",
       "            ]\n",
       "          }\n",
       "        ]\n",
       "      }\n",
       "    },\n",
       "    {\n",
       "      \"py/object\": \"game.opportunityCard.OpportunityCard\",\n",
       "      \"_opportunity_type\": {\n",
       "        \"py/reduce\": [\n",
       "          {\n",
       "            \"py/type\": \"game.opportunityCard.OpportunityType\"\n",
       "          },\n",
       "          {\n",
       "            \"py/tuple\": [\n",
       "              \"occupation\"\n",
       "            ]\n",
       "          }\n",
       "        ]\n",
       "      },\n",
       "      \"_action_type\": null,\n",
       "      \"_destination\": \"Pfizer\",\n",
       "      \"_text\": \"OPPORTUNITY to join Pfizer\\nMeet Normal Requirements\",\n",
       "      \"_expenses_paid\": false,\n",
       "      \"_double_happiness\": false,\n",
       "      \"_ncard\": 2,\n",
       "      \"_number\": 2,\n",
       "      \"_special_processing_dict\": null,\n",
       "      \"_special_processing_type\": null,\n",
       "      \"_pending_action\": null\n",
       "    }\n",
       "  ],\n",
       "  \"_happiness\": [\n",
       "    0,\n",
       "    20,\n",
       "    24,\n",
       "    30,\n",
       "    18\n",
       "  ],\n",
       "  \"_fame\": [\n",
       "    0,\n",
       "    10,\n",
       "    12\n",
       "  ],\n",
       "  \"_savings\": 0,\n",
       "  \"_occupation_record\": {\n",
       "    \"Google\": 1\n",
       "  },\n",
       "  \"_loans\": {}\n",
       "}"
      ]
     },
     "execution_count": 3,
     "metadata": {},
     "output_type": "execute_result"
    }
   ],
   "source": [
    "gs = careers_game.game_state\n",
    "gs.players[1]  # calls __repr__()"
   ]
  },
  {
   "cell_type": "code",
   "execution_count": 4,
   "id": "ed4dff42",
   "metadata": {},
   "outputs": [
    {
     "name": "stdout",
     "output_type": "stream",
     "text": [
      "{\n",
      "  \"name\": \"Don\",\n",
      "  \"number\": 0,\n",
      "  \"initials\": \"DWB\",\n",
      "  \"successFormula\": {\n",
      "    \"money\": 50,\n",
      "    \"stars\": 40,\n",
      "    \"hearts\": 10\n",
      "  },\n",
      "  \"score\": {\n",
      "    \"cash\": 6000,\n",
      "    \"fame\": 10,\n",
      "    \"happiness\": 16,\n",
      "    \"total_points\": 32\n",
      "  },\n",
      "  \"loans\": {},\n",
      "  \"board_location\": {\n",
      "    \"border_square_number\": 33,\n",
      "    \"border_square_name\": \"Google\",\n",
      "    \"occupation_square_number\": 9,\n",
      "    \"occupation_name\": \"Google\"\n",
      "  },\n",
      "  \"is_insured\": false,\n",
      "  \"is_sick\": false,\n",
      "  \"is_unemployed\": false,\n",
      "  \"can_roll\": true,\n",
      "  \"extra_turn\": 0,\n",
      "  \"can_use_opportunity\": true,\n",
      "  \"occupation_record\": {},\n",
      "  \"_id\": \"dwb20221206\",\n",
      "  \"email\": \"dwbzen@gmail.com\",\n",
      "  \"number_opportunity_cards\": 2,\n",
      "  \"opportunity_cards\": [\n",
      "    \"16: GOLDEN  OPPORTUNITY to join the Company of your choice\\nMeet Normal Requirements\",\n",
      "    \"16: GOLDEN  OPPORTUNITY to join the Company of your choice\\nMeet Normal Requirements\"\n",
      "  ],\n",
      "  \"number_experience_cards\": 4,\n",
      "  \"experience_cards\": [\n",
      "    \" 2: 2 spaces\",\n",
      "    \" 8: 7 spaces\",\n",
      "    \"10: two_die_wild\",\n",
      "    \"11: triple_wild\"\n",
      "  ],\n",
      "  \"number_of_degrees\": 0,\n",
      "  \"pending_actions\": []\n",
      "}\n"
     ]
    }
   ],
   "source": [
    "player = gs.players[0]\n",
    "print(player.to_JSON())"
   ]
  },
  {
   "cell_type": "code",
   "execution_count": 5,
   "id": "4e83d4de",
   "metadata": {},
   "outputs": [
    {
     "data": {
      "text/plain": [
       "game.gameState.GameState"
      ]
     },
     "execution_count": 5,
     "metadata": {},
     "output_type": "execute_result"
    }
   ],
   "source": [
    "type(gs)"
   ]
  },
  {
   "cell_type": "code",
   "execution_count": 6,
   "id": "26c83936",
   "metadata": {},
   "outputs": [
    {
     "data": {
      "text/plain": [
       "game.careersGame.CareersGame"
      ]
     },
     "execution_count": 6,
     "metadata": {},
     "output_type": "execute_result"
    }
   ],
   "source": [
    "type(careers_game)"
   ]
  },
  {
   "cell_type": "code",
   "execution_count": 7,
   "id": "eb4ffac0",
   "metadata": {},
   "outputs": [
    {
     "data": {
      "text/plain": [
       "2"
      ]
     },
     "execution_count": 7,
     "metadata": {},
     "output_type": "execute_result"
    }
   ],
   "source": [
    "cards = player.my_opportunity_cards\n",
    "len(cards)"
   ]
  },
  {
   "cell_type": "code",
   "execution_count": 8,
   "id": "a71862ea",
   "metadata": {},
   "outputs": [],
   "source": [
    "my_cards = GameEngineCommands.list(player, 'opportunity', 'condensed').message"
   ]
  },
  {
   "cell_type": "code",
   "execution_count": 9,
   "id": "68faffcc",
   "metadata": {},
   "outputs": [
    {
     "name": "stdout",
     "output_type": "stream",
     "text": [
      "{\n",
      "  \"number_opportunity_cards\":2,\n",
      "  \"opportunity_cards\":[\n",
      "    \"16: GOLDEN  OPPORTUNITY to join the Company of your choice\\nMeet Normal Requirements\",\n",
      "    \"16: GOLDEN  OPPORTUNITY to join the Company of your choice\\nMeet Normal Requirements\"\n",
      "  ]\n",
      "}\n"
     ]
    }
   ],
   "source": [
    "print(my_cards)"
   ]
  },
  {
   "cell_type": "code",
   "execution_count": 10,
   "id": "4435339e",
   "metadata": {},
   "outputs": [],
   "source": [
    "my_cards = sorted([f'{cd.number:>2}: {cd.text}' for cd in player.my_opportunity_cards])"
   ]
  },
  {
   "cell_type": "code",
   "execution_count": 11,
   "id": "253eed66",
   "metadata": {},
   "outputs": [
    {
     "data": {
      "text/plain": [
       "['16: GOLDEN  OPPORTUNITY to join the Company of your choice\\nMeet Normal Requirements',\n",
       " '16: GOLDEN  OPPORTUNITY to join the Company of your choice\\nMeet Normal Requirements']"
      ]
     },
     "execution_count": 11,
     "metadata": {},
     "output_type": "execute_result"
    }
   ],
   "source": [
    "my_cards"
   ]
  },
  {
   "cell_type": "code",
   "execution_count": 12,
   "id": "8fbb845b",
   "metadata": {},
   "outputs": [
    {
     "name": "stdout",
     "output_type": "stream",
     "text": [
      "[4, 5, 4]\n",
      "[1, 5]\n"
     ]
    }
   ],
   "source": [
    "dice = random.choices(population=[1,2,3,4,5,6], k=3)\n",
    "print(dice)\n",
    "roll = \"[1, 5]\"\n",
    "diestr = roll.lstrip(' [').rstrip('] ').split(\",\")\n",
    "die = [int(s) for s in diestr]\n",
    "print(die)"
   ]
  },
  {
   "cell_type": "code",
   "execution_count": 2,
   "id": "9f428d18",
   "metadata": {},
   "outputs": [
    {
     "data": {
      "text/plain": [
       "['C:\\\\Compile\\\\careers',\n",
       " 'C:\\\\Compile\\\\careers\\\\careers',\n",
       " 'C:\\\\Compile\\\\dwbzen\\\\dwbzen',\n",
       " 'C:\\\\Compile\\\\careers',\n",
       " 'C:\\\\Users\\\\dwbze\\\\AppData\\\\Local\\\\Programs\\\\Python\\\\Python310\\\\python310.zip',\n",
       " 'C:\\\\Users\\\\dwbze\\\\AppData\\\\Local\\\\Programs\\\\Python\\\\Python310\\\\DLLs',\n",
       " 'C:\\\\Users\\\\dwbze\\\\AppData\\\\Local\\\\Programs\\\\Python\\\\Python310\\\\lib',\n",
       " 'C:\\\\Users\\\\dwbze\\\\AppData\\\\Local\\\\Programs\\\\Python\\\\Python310',\n",
       " 'C:\\\\python\\\\dwbzen10',\n",
       " '',\n",
       " 'C:\\\\python\\\\dwbzen10\\\\lib\\\\site-packages',\n",
       " 'C:\\\\python\\\\dwbzen10\\\\lib\\\\site-packages\\\\win32',\n",
       " 'C:\\\\python\\\\dwbzen10\\\\lib\\\\site-packages\\\\win32\\\\lib',\n",
       " 'C:\\\\python\\\\dwbzen10\\\\lib\\\\site-packages\\\\Pythonwin']"
      ]
     },
     "execution_count": 2,
     "metadata": {},
     "output_type": "execute_result"
    }
   ],
   "source": []
  },
  {
   "cell_type": "code",
   "execution_count": 81,
   "id": "f3b35e59",
   "metadata": {},
   "outputs": [],
   "source": [
    "import careers\n",
    "def get_plugins(edition_name=\"All\") ->Dict:\n",
    "    package = careers.game.plugins\n",
    "    prefix = package.__name__ + \".\"\n",
    "    discovered_plugins = []\n",
    "    for importer, modname, ispkg in pkgutil.iter_modules(package.__path__, prefix):\n",
    "        #print(\"Found submodule %s (is a package: %s)\" % (modname, ispkg))\n",
    "        module = __import__(modname, fromlist=\"dummy\")\n",
    "        #print(\"Imported\", module)\n",
    "        \n",
    "        if modname.startswith(f'careers.game.plugins.careers_{edition_name}'):\n",
    "            discovered_plugins.append(module)\n",
    "\n",
    "    return discovered_plugins"
   ]
  },
  {
   "cell_type": "code",
   "execution_count": 82,
   "id": "d3ff8cb1",
   "metadata": {},
   "outputs": [],
   "source": [
    "modules = get_plugins()"
   ]
  },
  {
   "cell_type": "code",
   "execution_count": 83,
   "id": "ef1bf59a",
   "metadata": {},
   "outputs": [
    {
     "data": {
      "text/plain": [
       "[<module 'careers.game.plugins.careers_All_Randomizer' from 'C:\\\\Compile\\\\careers\\\\careers\\\\game\\\\plugins\\\\careers_All_Randomizer.py'>]"
      ]
     },
     "execution_count": 83,
     "metadata": {},
     "output_type": "execute_result"
    }
   ],
   "source": [
    "modules"
   ]
  },
  {
   "cell_type": "code",
   "execution_count": 84,
   "id": "e9d9a158",
   "metadata": {},
   "outputs": [
    {
     "data": {
      "text/plain": [
       "[<module 'careers.game.plugins.careers_HiTech_Rules' from 'C:\\\\Compile\\\\careers\\\\careers\\\\game\\\\plugins\\\\careers_HiTech_Rules.py'>]"
      ]
     },
     "execution_count": 84,
     "metadata": {},
     "output_type": "execute_result"
    }
   ],
   "source": [
    "get_plugins(\"HiTech\")"
   ]
  },
  {
   "cell_type": "code",
   "execution_count": 69,
   "id": "d83234cf",
   "metadata": {},
   "outputs": [
    {
     "data": {
      "text/plain": [
       "['Careers_HiTech_Rules',\n",
       " 'Plugin',\n",
       " '__builtins__',\n",
       " '__cached__',\n",
       " '__doc__',\n",
       " '__file__',\n",
       " '__loader__',\n",
       " '__name__',\n",
       " '__package__',\n",
       " '__spec__']"
      ]
     },
     "execution_count": 69,
     "metadata": {},
     "output_type": "execute_result"
    }
   ],
   "source": [
    "dir(modules[0])"
   ]
  },
  {
   "cell_type": "code",
   "execution_count": null,
   "id": "bd26c920",
   "metadata": {},
   "outputs": [],
   "source": []
  },
  {
   "cell_type": "code",
   "execution_count": null,
   "id": "982f8543",
   "metadata": {},
   "outputs": [],
   "source": []
  }
 ],
 "metadata": {
  "kernelspec": {
   "display_name": "Python 3 (ipykernel)",
   "language": "python",
   "name": "python3"
  },
  "language_info": {
   "codemirror_mode": {
    "name": "ipython",
    "version": 3
   },
   "file_extension": ".py",
   "mimetype": "text/x-python",
   "name": "python",
   "nbconvert_exporter": "python",
   "pygments_lexer": "ipython3",
   "version": "3.10.6"
  }
 },
 "nbformat": 4,
 "nbformat_minor": 5
}
