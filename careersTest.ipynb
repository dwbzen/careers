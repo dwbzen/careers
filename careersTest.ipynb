{
 "cells": [
  {
   "cell_type": "code",
   "execution_count": 1,
   "id": "b6f32d42",
   "metadata": {},
   "outputs": [],
   "source": [
    "import argparse, string, pathlib\n",
    "import json, re, random, sys\n",
    "import joblib, jsonpickle\n",
    "from careers.game import GameRunner, CareersGame, CareersGameEngine, GameEngineCommands\n",
    "from typing import Dict, List\n",
    "import importlib\n",
    "import pkgutil\n"
   ]
  },
  {
   "cell_type": "code",
   "execution_count": 3,
   "id": "034ecdf6",
   "metadata": {},
   "outputs": [],
   "source": [
    "# execute self.save(\"pkl\")\n",
    "\n",
    "filename = 'games/ZenAlien2013_20230901_112844_896440_98009_game.pkl'\n",
    "careers_game = joblib.load(filename)"
   ]
  },
  {
   "cell_type": "code",
   "execution_count": 3,
   "id": "ab3e866a",
   "metadata": {},
   "outputs": [
    {
     "data": {
      "text/plain": [
       "{\n",
       "  \"py/object\": \"game.player.Player\",\n",
       "  \"_player_name\": \"Brian\",\n",
       "  \"_player_initials\": \"BDB\",\n",
       "  \"_salary_history\": [\n",
       "    2000,\n",
       "    2000,\n",
       "    5000\n",
       "  ],\n",
       "  \"_starting_cash\": 10000,\n",
       "  \"_starting_salary\": 5000,\n",
       "  \"_cash\": 6500,\n",
       "  \"_salary\": 5000,\n",
       "  \"_success_formula\": {\n",
       "    \"py/object\": \"game.successFormula.SuccessFormula\",\n",
       "    \"_stars\": 50,\n",
       "    \"_hearts\": 20,\n",
       "    \"_money\": 30,\n",
       "    \"_game_total_points\": 100\n",
       "  },\n",
       "  \"_player_id\": \"bdb20221206\",\n",
       "  \"_player_email\": \"brian.bacon01@gmail.com\",\n",
       "  \"_number\": 1,\n",
       "  \"_laps\": 1,\n",
       "  \"_my_degrees\": {},\n",
       "  \"_board_location\": {\n",
       "    \"py/object\": \"game.boardLocation.BoardLocation\",\n",
       "    \"_border_square_number\": 2,\n",
       "    \"_border_square_name\": \"IncomeTax\",\n",
       "    \"_occupation_name\": null,\n",
       "    \"_occupation_square_number\": 12,\n",
       "    \"_prior_border_square_number\": null,\n",
       "    \"_prior_border_square_name\": null,\n",
       "    \"_prior_occupation_square_number\": null,\n",
       "    \"_prior_occupation_name\": null\n",
       "  },\n",
       "  \"_can_retire\": false,\n",
       "  \"_is_insured\": false,\n",
       "  \"_is_unemployed\": false,\n",
       "  \"_is_sick\": false,\n",
       "  \"_on_holiday\": false,\n",
       "  \"_lose_turn\": false,\n",
       "  \"_extra_turn\": 0,\n",
       "  \"_can_roll\": false,\n",
       "  \"_can_use_opportunity\": true,\n",
       "  \"_opportunity_card\": null,\n",
       "  \"_experience_card\": null,\n",
       "  \"_can_bump\": [],\n",
       "  \"_pending_actions\": {\n",
       "    \"py/object\": \"game.pendingActions.PendingActions\",\n",
       "    \"_pending_actions\": []\n",
       "  },\n",
       "  \"_my_experience_cards\": [\n",
       "    {\n",
       "      \"py/object\": \"game.experienceCard.ExperienceCard\",\n",
       "      \"_number\": 3,\n",
       "      \"_card_type\": {\n",
       "        \"py/reduce\": [\n",
       "          {\n",
       "            \"py/type\": \"game.experienceCard.ExperienceType\"\n",
       "          },\n",
       "          {\n",
       "            \"py/tuple\": [\n",
       "              \"fixed\"\n",
       "            ]\n",
       "          }\n",
       "        ]\n",
       "      },\n",
       "      \"_spaces\": -2,\n",
       "      \"_ncard\": 6,\n",
       "      \"_range\": [\n",
       "        1,\n",
       "        2,\n",
       "        3,\n",
       "        4,\n",
       "        5,\n",
       "        6,\n",
       "        7\n",
       "      ]\n",
       "    },\n",
       "    {\n",
       "      \"py/object\": \"game.experienceCard.ExperienceCard\",\n",
       "      \"_number\": 5,\n",
       "      \"_card_type\": {\n",
       "        \"py/id\": 10\n",
       "      },\n",
       "      \"_spaces\": 4,\n",
       "      \"_ncard\": 2,\n",
       "      \"_range\": [\n",
       "        1,\n",
       "        2,\n",
       "        3,\n",
       "        4,\n",
       "        5,\n",
       "        6,\n",
       "        7\n",
       "      ]\n",
       "    },\n",
       "    {\n",
       "      \"py/object\": \"game.experienceCard.ExperienceCard\",\n",
       "      \"_number\": 5,\n",
       "      \"_card_type\": {\n",
       "        \"py/id\": 10\n",
       "      },\n",
       "      \"_spaces\": 4,\n",
       "      \"_ncard\": 5,\n",
       "      \"_range\": [\n",
       "        1,\n",
       "        2,\n",
       "        3,\n",
       "        4,\n",
       "        5,\n",
       "        6,\n",
       "        7\n",
       "      ]\n",
       "    }\n",
       "  ],\n",
       "  \"_my_opportunity_cards\": [\n",
       "    {\n",
       "      \"py/object\": \"game.opportunityCard.OpportunityCard\",\n",
       "      \"_opportunity_type\": {\n",
       "        \"py/reduce\": [\n",
       "          {\n",
       "            \"py/type\": \"game.opportunityCard.OpportunityType\"\n",
       "          },\n",
       "          {\n",
       "            \"py/tuple\": [\n",
       "              \"occupation_choice\"\n",
       "            ]\n",
       "          }\n",
       "        ]\n",
       "      },\n",
       "      \"_action_type\": null,\n",
       "      \"_destination\": null,\n",
       "      \"_text\": \"GOLDEN  OPPORTUNITY to join the Company of your choice\\nMeet Normal Requirements\",\n",
       "      \"_expenses_paid\": false,\n",
       "      \"_double_happiness\": false,\n",
       "      \"_ncard\": 14,\n",
       "      \"_number\": 16,\n",
       "      \"_special_processing_dict\": {\n",
       "        \"type\": \"choose_occupation\",\n",
       "        \"pending_action\": \"choose_occupation\",\n",
       "        \"choices\": \"*Occupation\"\n",
       "      },\n",
       "      \"_special_processing_type\": {\n",
       "        \"py/reduce\": [\n",
       "          {\n",
       "            \"py/type\": \"game.opportunityCard.OpportunitySpecialProcessingType\"\n",
       "          },\n",
       "          {\n",
       "            \"py/tuple\": [\n",
       "              \"choose_occupation\"\n",
       "            ]\n",
       "          }\n",
       "        ]\n",
       "      },\n",
       "      \"_pending_action\": {\n",
       "        \"py/reduce\": [\n",
       "          {\n",
       "            \"py/type\": \"game.gameConstants.PendingActionType\"\n",
       "          },\n",
       "          {\n",
       "            \"py/tuple\": [\n",
       "              \"choose_occupation\"\n",
       "            ]\n",
       "          }\n",
       "        ]\n",
       "      }\n",
       "    },\n",
       "    {\n",
       "      \"py/object\": \"game.opportunityCard.OpportunityCard\",\n",
       "      \"_opportunity_type\": {\n",
       "        \"py/reduce\": [\n",
       "          {\n",
       "            \"py/type\": \"game.opportunityCard.OpportunityType\"\n",
       "          },\n",
       "          {\n",
       "            \"py/tuple\": [\n",
       "              \"occupation\"\n",
       "            ]\n",
       "          }\n",
       "        ]\n",
       "      },\n",
       "      \"_action_type\": null,\n",
       "      \"_destination\": \"Pfizer\",\n",
       "      \"_text\": \"OPPORTUNITY to join Pfizer\\nMeet Normal Requirements\",\n",
       "      \"_expenses_paid\": false,\n",
       "      \"_double_happiness\": false,\n",
       "      \"_ncard\": 2,\n",
       "      \"_number\": 2,\n",
       "      \"_special_processing_dict\": null,\n",
       "      \"_special_processing_type\": null,\n",
       "      \"_pending_action\": null\n",
       "    }\n",
       "  ],\n",
       "  \"_happiness\": [\n",
       "    0,\n",
       "    20,\n",
       "    24,\n",
       "    30,\n",
       "    18\n",
       "  ],\n",
       "  \"_fame\": [\n",
       "    0,\n",
       "    10,\n",
       "    12\n",
       "  ],\n",
       "  \"_savings\": 0,\n",
       "  \"_occupation_record\": {\n",
       "    \"Google\": 1\n",
       "  },\n",
       "  \"_loans\": {}\n",
       "}"
      ]
     },
     "execution_count": 3,
     "metadata": {},
     "output_type": "execute_result"
    }
   ],
   "source": [
    "gs = careers_game.game_state\n",
    "gs.players[1]  # calls __repr__()"
   ]
  },
  {
   "cell_type": "code",
   "execution_count": 4,
   "id": "ed4dff42",
   "metadata": {},
   "outputs": [
    {
     "name": "stdout",
     "output_type": "stream",
     "text": [
      "{\n",
      "  \"name\": \"Don\",\n",
      "  \"number\": 0,\n",
      "  \"initials\": \"DWB\",\n",
      "  \"successFormula\": {\n",
      "    \"money\": 50,\n",
      "    \"stars\": 40,\n",
      "    \"hearts\": 10\n",
      "  },\n",
      "  \"score\": {\n",
      "    \"cash\": 6000,\n",
      "    \"fame\": 10,\n",
      "    \"happiness\": 16,\n",
      "    \"total_points\": 32\n",
      "  },\n",
      "  \"loans\": {},\n",
      "  \"board_location\": {\n",
      "    \"border_square_number\": 33,\n",
      "    \"border_square_name\": \"Google\",\n",
      "    \"occupation_square_number\": 9,\n",
      "    \"occupation_name\": \"Google\"\n",
      "  },\n",
      "  \"is_insured\": false,\n",
      "  \"is_sick\": false,\n",
      "  \"is_unemployed\": false,\n",
      "  \"can_roll\": true,\n",
      "  \"extra_turn\": 0,\n",
      "  \"can_use_opportunity\": true,\n",
      "  \"occupation_record\": {},\n",
      "  \"_id\": \"dwb20221206\",\n",
      "  \"email\": \"dwbzen@gmail.com\",\n",
      "  \"number_opportunity_cards\": 2,\n",
      "  \"opportunity_cards\": [\n",
      "    \"16: GOLDEN  OPPORTUNITY to join the Company of your choice\\nMeet Normal Requirements\",\n",
      "    \"16: GOLDEN  OPPORTUNITY to join the Company of your choice\\nMeet Normal Requirements\"\n",
      "  ],\n",
      "  \"number_experience_cards\": 4,\n",
      "  \"experience_cards\": [\n",
      "    \" 2: 2 spaces\",\n",
      "    \" 8: 7 spaces\",\n",
      "    \"10: two_die_wild\",\n",
      "    \"11: triple_wild\"\n",
      "  ],\n",
      "  \"number_of_degrees\": 0,\n",
      "  \"pending_actions\": []\n",
      "}\n"
     ]
    }
   ],
   "source": [
    "player = gs.players[0]\n",
    "print(player.to_JSON())"
   ]
  },
  {
   "cell_type": "code",
   "execution_count": 5,
   "id": "4e83d4de",
   "metadata": {},
   "outputs": [
    {
     "data": {
      "text/plain": [
       "game.gameState.GameState"
      ]
     },
     "execution_count": 5,
     "metadata": {},
     "output_type": "execute_result"
    }
   ],
   "source": [
    "type(gs)"
   ]
  },
  {
   "cell_type": "code",
   "execution_count": 6,
   "id": "26c83936",
   "metadata": {},
   "outputs": [
    {
     "data": {
      "text/plain": [
       "game.careersGame.CareersGame"
      ]
     },
     "execution_count": 6,
     "metadata": {},
     "output_type": "execute_result"
    }
   ],
   "source": [
    "type(careers_game)"
   ]
  },
  {
   "cell_type": "code",
   "execution_count": 7,
   "id": "eb4ffac0",
   "metadata": {},
   "outputs": [
    {
     "data": {
      "text/plain": [
       "2"
      ]
     },
     "execution_count": 7,
     "metadata": {},
     "output_type": "execute_result"
    }
   ],
   "source": [
    "cards = player.my_opportunity_cards\n",
    "len(cards)"
   ]
  },
  {
   "cell_type": "code",
   "execution_count": 8,
   "id": "a71862ea",
   "metadata": {},
   "outputs": [],
   "source": [
    "my_cards = GameEngineCommands.list(player, 'opportunity', 'condensed').message"
   ]
  },
  {
   "cell_type": "code",
   "execution_count": 9,
   "id": "68faffcc",
   "metadata": {},
   "outputs": [
    {
     "name": "stdout",
     "output_type": "stream",
     "text": [
      "{\n",
      "  \"number_opportunity_cards\":2,\n",
      "  \"opportunity_cards\":[\n",
      "    \"16: GOLDEN  OPPORTUNITY to join the Company of your choice\\nMeet Normal Requirements\",\n",
      "    \"16: GOLDEN  OPPORTUNITY to join the Company of your choice\\nMeet Normal Requirements\"\n",
      "  ]\n",
      "}\n"
     ]
    }
   ],
   "source": [
    "print(my_cards)"
   ]
  },
  {
   "cell_type": "code",
   "execution_count": 10,
   "id": "4435339e",
   "metadata": {},
   "outputs": [],
   "source": [
    "my_cards = sorted([f'{cd.number:>2}: {cd.text}' for cd in player.my_opportunity_cards])"
   ]
  },
  {
   "cell_type": "code",
   "execution_count": 11,
   "id": "253eed66",
   "metadata": {},
   "outputs": [
    {
     "data": {
      "text/plain": [
       "['16: GOLDEN  OPPORTUNITY to join the Company of your choice\\nMeet Normal Requirements',\n",
       " '16: GOLDEN  OPPORTUNITY to join the Company of your choice\\nMeet Normal Requirements']"
      ]
     },
     "execution_count": 11,
     "metadata": {},
     "output_type": "execute_result"
    }
   ],
   "source": [
    "my_cards"
   ]
  },
  {
   "cell_type": "code",
   "execution_count": 12,
   "id": "8fbb845b",
   "metadata": {},
   "outputs": [
    {
     "name": "stdout",
     "output_type": "stream",
     "text": [
      "[4, 5, 4]\n",
      "[1, 5]\n"
     ]
    }
   ],
   "source": [
    "dice = random.choices(population=[1,2,3,4,5,6], k=3)\n",
    "print(dice)\n",
    "roll = \"[1, 5]\"\n",
    "diestr = roll.lstrip(' [').rstrip('] ').split(\",\")\n",
    "die = [int(s) for s in diestr]\n",
    "print(die)"
   ]
  },
  {
   "cell_type": "code",
   "execution_count": null,
   "id": "9f428d18",
   "metadata": {},
   "outputs": [],
   "source": []
  },
  {
   "cell_type": "code",
   "execution_count": 2,
   "id": "f3b35e59",
   "metadata": {},
   "outputs": [],
   "source": [
    "import careers\n",
    "def get_plugins(edition_name=\"All\", path='C:/Compile/careers/careers/game/plugins') ->List[Dict]:\n",
    "\n",
    "    prefix = \"careers.game.plugins\"\n",
    "    discovered_plugins = []\n",
    "    for importer, modname, ispkg in pkgutil.iter_modules([path], f\"{prefix}.\"):\n",
    "        print(\"Found submodule %s (is a package: %s)\" % (modname, ispkg))\n",
    "        module = __import__(modname, fromlist=\"dummy\")\n",
    "        print(\"Imported\", module)\n",
    "\n",
    "        if \"_All_\" in modname or edition_name in modname:\n",
    "            mdict = {\"name\":modname, \"module\":module}\n",
    "            discovered_plugins.append(mdict)\n",
    "\n",
    "    return discovered_plugins"
   ]
  },
  {
   "cell_type": "code",
   "execution_count": 3,
   "id": "d3ff8cb1",
   "metadata": {},
   "outputs": [
    {
     "name": "stdout",
     "output_type": "stream",
     "text": [
      "Found submodule careers.game.plugins.__version__ (is a package: False)\n",
      "Imported <module 'careers.game.plugins.__version__' from 'C:\\\\Compile\\\\careers\\\\careers\\\\game\\\\plugins\\\\__version__.py'>\n",
      "Found submodule careers.game.plugins.careers_All_Randomizer (is a package: False)\n",
      "Imported <module 'careers.game.plugins.careers_All_Randomizer' from 'C:\\\\Compile\\\\careers\\\\careers\\\\game\\\\plugins\\\\careers_All_Randomizer.py'>\n",
      "Found submodule careers.game.plugins.careers_All_Strategy (is a package: False)\n",
      "Imported <module 'careers.game.plugins.careers_All_Strategy' from 'C:\\\\Compile\\\\careers\\\\careers\\\\game\\\\plugins\\\\careers_All_Strategy.py'>\n",
      "Found submodule careers.game.plugins.careers_HiTech_Rules (is a package: False)\n",
      "Imported <module 'careers.game.plugins.careers_HiTech_Rules' from 'C:\\\\Compile\\\\careers\\\\careers\\\\game\\\\plugins\\\\careers_HiTech_Rules.py'>\n",
      "Found submodule careers.game.plugins.plugin (is a package: False)\n",
      "Imported <module 'careers.game.plugins.plugin' from 'C:\\\\Compile\\\\careers\\\\careers\\\\game\\\\plugins\\\\plugin.py'>\n"
     ]
    }
   ],
   "source": [
    "modules = get_plugins()"
   ]
  },
  {
   "cell_type": "code",
   "execution_count": 4,
   "id": "ef1bf59a",
   "metadata": {},
   "outputs": [
    {
     "data": {
      "text/plain": [
       "[{'name': 'careers.game.plugins.careers_All_Randomizer',\n",
       "  'module': <module 'careers.game.plugins.careers_All_Randomizer' from 'C:\\\\Compile\\\\careers\\\\careers\\\\game\\\\plugins\\\\careers_All_Randomizer.py'>},\n",
       " {'name': 'careers.game.plugins.careers_All_Strategy',\n",
       "  'module': <module 'careers.game.plugins.careers_All_Strategy' from 'C:\\\\Compile\\\\careers\\\\careers\\\\game\\\\plugins\\\\careers_All_Strategy.py'>}]"
      ]
     },
     "execution_count": 4,
     "metadata": {},
     "output_type": "execute_result"
    }
   ],
   "source": [
    "modules"
   ]
  },
  {
   "cell_type": "code",
   "execution_count": 5,
   "id": "e9d9a158",
   "metadata": {},
   "outputs": [
    {
     "name": "stdout",
     "output_type": "stream",
     "text": [
      "Found submodule careers.game.plugins.__version__ (is a package: False)\n",
      "Imported <module 'careers.game.plugins.__version__' from 'C:\\\\Compile\\\\careers\\\\careers\\\\game\\\\plugins\\\\__version__.py'>\n",
      "Found submodule careers.game.plugins.careers_All_Randomizer (is a package: False)\n",
      "Imported <module 'careers.game.plugins.careers_All_Randomizer' from 'C:\\\\Compile\\\\careers\\\\careers\\\\game\\\\plugins\\\\careers_All_Randomizer.py'>\n",
      "Found submodule careers.game.plugins.careers_All_Strategy (is a package: False)\n",
      "Imported <module 'careers.game.plugins.careers_All_Strategy' from 'C:\\\\Compile\\\\careers\\\\careers\\\\game\\\\plugins\\\\careers_All_Strategy.py'>\n",
      "Found submodule careers.game.plugins.careers_HiTech_Rules (is a package: False)\n",
      "Imported <module 'careers.game.plugins.careers_HiTech_Rules' from 'C:\\\\Compile\\\\careers\\\\careers\\\\game\\\\plugins\\\\careers_HiTech_Rules.py'>\n",
      "Found submodule careers.game.plugins.plugin (is a package: False)\n",
      "Imported <module 'careers.game.plugins.plugin' from 'C:\\\\Compile\\\\careers\\\\careers\\\\game\\\\plugins\\\\plugin.py'>\n"
     ]
    },
    {
     "data": {
      "text/plain": [
       "[{'name': 'careers.game.plugins.careers_All_Randomizer',\n",
       "  'module': <module 'careers.game.plugins.careers_All_Randomizer' from 'C:\\\\Compile\\\\careers\\\\careers\\\\game\\\\plugins\\\\careers_All_Randomizer.py'>},\n",
       " {'name': 'careers.game.plugins.careers_All_Strategy',\n",
       "  'module': <module 'careers.game.plugins.careers_All_Strategy' from 'C:\\\\Compile\\\\careers\\\\careers\\\\game\\\\plugins\\\\careers_All_Strategy.py'>},\n",
       " {'name': 'careers.game.plugins.careers_HiTech_Rules',\n",
       "  'module': <module 'careers.game.plugins.careers_HiTech_Rules' from 'C:\\\\Compile\\\\careers\\\\careers\\\\game\\\\plugins\\\\careers_HiTech_Rules.py'>}]"
      ]
     },
     "execution_count": 5,
     "metadata": {},
     "output_type": "execute_result"
    }
   ],
   "source": [
    "get_plugins(\"HiTech\")"
   ]
  },
  {
   "cell_type": "code",
   "execution_count": 6,
   "id": "d83234cf",
   "metadata": {},
   "outputs": [
    {
     "data": {
      "text/plain": [
       "['CareersGame',\n",
       " 'Careers_All_Randomizer',\n",
       " 'Dict',\n",
       " 'Plugin',\n",
       " '__builtins__',\n",
       " '__cached__',\n",
       " '__doc__',\n",
       " '__file__',\n",
       " '__loader__',\n",
       " '__name__',\n",
       " '__package__',\n",
       " '__spec__']"
      ]
     },
     "execution_count": 6,
     "metadata": {},
     "output_type": "execute_result"
    }
   ],
   "source": [
    "dir(modules[0][\"module\"])"
   ]
  },
  {
   "cell_type": "code",
   "execution_count": 7,
   "id": "bd26c920",
   "metadata": {},
   "outputs": [
    {
     "data": {
      "text/plain": [
       "'careers.game.plugins.careers_All_Strategy'"
      ]
     },
     "execution_count": 7,
     "metadata": {},
     "output_type": "execute_result"
    }
   ],
   "source": [
    "modules[1][\"module\"].__name__"
   ]
  },
  {
   "cell_type": "code",
   "execution_count": 11,
   "id": "eaf3dc86",
   "metadata": {},
   "outputs": [
    {
     "data": {
      "text/plain": [
       "'careers_All_Strategy'"
      ]
     },
     "execution_count": 11,
     "metadata": {},
     "output_type": "execute_result"
    }
   ],
   "source": [
    "modules[1][\"module\"].__name__.split(\".\")[-1]"
   ]
  },
  {
   "cell_type": "code",
   "execution_count": 8,
   "id": "982f8543",
   "metadata": {},
   "outputs": [
    {
     "data": {
      "text/plain": [
       "['CareersGame',\n",
       " 'Careers_All_Strategy',\n",
       " 'Dict',\n",
       " 'GameState',\n",
       " 'GameUtils',\n",
       " 'Plugin',\n",
       " '__builtins__',\n",
       " '__cached__',\n",
       " '__doc__',\n",
       " '__file__',\n",
       " '__loader__',\n",
       " '__name__',\n",
       " '__package__',\n",
       " '__spec__',\n",
       " 'random']"
      ]
     },
     "execution_count": 8,
     "metadata": {},
     "output_type": "execute_result"
    }
   ],
   "source": [
    "module = modules[1][\"module\"]\n",
    "dir(module)"
   ]
  },
  {
   "cell_type": "code",
   "execution_count": 9,
   "id": "1ce6587a",
   "metadata": {},
   "outputs": [
    {
     "data": {
      "text/plain": [
       "[('CareersGame', game.careersGame.CareersGame),\n",
       " ('Careers_All_Strategy',\n",
       "  careers.game.plugins.careers_All_Strategy.Careers_All_Strategy),\n",
       " ('Dict', typing.Dict),\n",
       " ('GameState', game.gameState.GameState),\n",
       " ('GameUtils', game.gameUtils.GameUtils),\n",
       " ('Plugin', game.plugins.plugin.Plugin),\n",
       " ('__builtins__',\n",
       "  {'__name__': 'builtins',\n",
       "   '__doc__': \"Built-in functions, exceptions, and other objects.\\n\\nNoteworthy: None is the `nil' object; Ellipsis represents `...' in slices.\",\n",
       "   '__package__': '',\n",
       "   '__loader__': _frozen_importlib.BuiltinImporter,\n",
       "   '__spec__': ModuleSpec(name='builtins', loader=<class '_frozen_importlib.BuiltinImporter'>, origin='built-in'),\n",
       "   '__build_class__': <function __build_class__>,\n",
       "   '__import__': <function __import__>,\n",
       "   'abs': <function abs(x, /)>,\n",
       "   'all': <function all(iterable, /)>,\n",
       "   'any': <function any(iterable, /)>,\n",
       "   'ascii': <function ascii(obj, /)>,\n",
       "   'bin': <function bin(number, /)>,\n",
       "   'breakpoint': <function breakpoint>,\n",
       "   'callable': <function callable(obj, /)>,\n",
       "   'chr': <function chr(i, /)>,\n",
       "   'compile': <function compile(source, filename, mode, flags=0, dont_inherit=False, optimize=-1, *, _feature_version=-1)>,\n",
       "   'delattr': <function delattr(obj, name, /)>,\n",
       "   'dir': <function dir>,\n",
       "   'divmod': <function divmod(x, y, /)>,\n",
       "   'eval': <function eval(source, globals=None, locals=None, /)>,\n",
       "   'exec': <function exec(source, globals=None, locals=None, /)>,\n",
       "   'format': <function format(value, format_spec='', /)>,\n",
       "   'getattr': <function getattr>,\n",
       "   'globals': <function globals()>,\n",
       "   'hasattr': <function hasattr(obj, name, /)>,\n",
       "   'hash': <function hash(obj, /)>,\n",
       "   'hex': <function hex(number, /)>,\n",
       "   'id': <function id(obj, /)>,\n",
       "   'input': <bound method Kernel.raw_input of <ipykernel.ipkernel.IPythonKernel object at 0x000002AA44B8F370>>,\n",
       "   'isinstance': <function isinstance(obj, class_or_tuple, /)>,\n",
       "   'issubclass': <function issubclass(cls, class_or_tuple, /)>,\n",
       "   'iter': <function iter>,\n",
       "   'aiter': <function aiter(async_iterable, /)>,\n",
       "   'len': <function len(obj, /)>,\n",
       "   'locals': <function locals()>,\n",
       "   'max': <function max>,\n",
       "   'min': <function min>,\n",
       "   'next': <function next>,\n",
       "   'anext': <function anext>,\n",
       "   'oct': <function oct(number, /)>,\n",
       "   'ord': <function ord(c, /)>,\n",
       "   'pow': <function pow(base, exp, mod=None)>,\n",
       "   'print': <function print>,\n",
       "   'repr': <function repr(obj, /)>,\n",
       "   'round': <function round(number, ndigits=None)>,\n",
       "   'setattr': <function setattr(obj, name, value, /)>,\n",
       "   'sorted': <function sorted(iterable, /, *, key=None, reverse=False)>,\n",
       "   'sum': <function sum(iterable, /, start=0)>,\n",
       "   'vars': <function vars>,\n",
       "   'None': None,\n",
       "   'Ellipsis': Ellipsis,\n",
       "   'NotImplemented': NotImplemented,\n",
       "   'False': False,\n",
       "   'True': True,\n",
       "   'bool': bool,\n",
       "   'memoryview': memoryview,\n",
       "   'bytearray': bytearray,\n",
       "   'bytes': bytes,\n",
       "   'classmethod': classmethod,\n",
       "   'complex': complex,\n",
       "   'dict': dict,\n",
       "   'enumerate': enumerate,\n",
       "   'filter': filter,\n",
       "   'float': float,\n",
       "   'frozenset': frozenset,\n",
       "   'property': property,\n",
       "   'int': int,\n",
       "   'list': list,\n",
       "   'map': map,\n",
       "   'object': object,\n",
       "   'range': range,\n",
       "   'reversed': reversed,\n",
       "   'set': set,\n",
       "   'slice': slice,\n",
       "   'staticmethod': staticmethod,\n",
       "   'str': str,\n",
       "   'super': super,\n",
       "   'tuple': tuple,\n",
       "   'type': type,\n",
       "   'zip': zip,\n",
       "   '__debug__': True,\n",
       "   'BaseException': BaseException,\n",
       "   'Exception': Exception,\n",
       "   'TypeError': TypeError,\n",
       "   'StopAsyncIteration': StopAsyncIteration,\n",
       "   'StopIteration': StopIteration,\n",
       "   'GeneratorExit': GeneratorExit,\n",
       "   'SystemExit': SystemExit,\n",
       "   'KeyboardInterrupt': KeyboardInterrupt,\n",
       "   'ImportError': ImportError,\n",
       "   'ModuleNotFoundError': ModuleNotFoundError,\n",
       "   'OSError': OSError,\n",
       "   'EnvironmentError': OSError,\n",
       "   'IOError': OSError,\n",
       "   'WindowsError': OSError,\n",
       "   'EOFError': EOFError,\n",
       "   'RuntimeError': RuntimeError,\n",
       "   'RecursionError': RecursionError,\n",
       "   'NotImplementedError': NotImplementedError,\n",
       "   'NameError': NameError,\n",
       "   'UnboundLocalError': UnboundLocalError,\n",
       "   'AttributeError': AttributeError,\n",
       "   'SyntaxError': SyntaxError,\n",
       "   'IndentationError': IndentationError,\n",
       "   'TabError': TabError,\n",
       "   'LookupError': LookupError,\n",
       "   'IndexError': IndexError,\n",
       "   'KeyError': KeyError,\n",
       "   'ValueError': ValueError,\n",
       "   'UnicodeError': UnicodeError,\n",
       "   'UnicodeEncodeError': UnicodeEncodeError,\n",
       "   'UnicodeDecodeError': UnicodeDecodeError,\n",
       "   'UnicodeTranslateError': UnicodeTranslateError,\n",
       "   'AssertionError': AssertionError,\n",
       "   'ArithmeticError': ArithmeticError,\n",
       "   'FloatingPointError': FloatingPointError,\n",
       "   'OverflowError': OverflowError,\n",
       "   'ZeroDivisionError': ZeroDivisionError,\n",
       "   'SystemError': SystemError,\n",
       "   'ReferenceError': ReferenceError,\n",
       "   'MemoryError': MemoryError,\n",
       "   'BufferError': BufferError,\n",
       "   'Warning': Warning,\n",
       "   'UserWarning': UserWarning,\n",
       "   'EncodingWarning': EncodingWarning,\n",
       "   'DeprecationWarning': DeprecationWarning,\n",
       "   'PendingDeprecationWarning': PendingDeprecationWarning,\n",
       "   'SyntaxWarning': SyntaxWarning,\n",
       "   'RuntimeWarning': RuntimeWarning,\n",
       "   'FutureWarning': FutureWarning,\n",
       "   'ImportWarning': ImportWarning,\n",
       "   'UnicodeWarning': UnicodeWarning,\n",
       "   'BytesWarning': BytesWarning,\n",
       "   'ResourceWarning': ResourceWarning,\n",
       "   'ConnectionError': ConnectionError,\n",
       "   'BlockingIOError': BlockingIOError,\n",
       "   'BrokenPipeError': BrokenPipeError,\n",
       "   'ChildProcessError': ChildProcessError,\n",
       "   'ConnectionAbortedError': ConnectionAbortedError,\n",
       "   'ConnectionRefusedError': ConnectionRefusedError,\n",
       "   'ConnectionResetError': ConnectionResetError,\n",
       "   'FileExistsError': FileExistsError,\n",
       "   'FileNotFoundError': FileNotFoundError,\n",
       "   'IsADirectoryError': IsADirectoryError,\n",
       "   'NotADirectoryError': NotADirectoryError,\n",
       "   'InterruptedError': InterruptedError,\n",
       "   'PermissionError': PermissionError,\n",
       "   'ProcessLookupError': ProcessLookupError,\n",
       "   'TimeoutError': TimeoutError,\n",
       "   'open': <function io.open(file, mode='r', buffering=-1, encoding=None, errors=None, newline=None, closefd=True, opener=None)>,\n",
       "   'copyright': Copyright (c) 2001-2022 Python Software Foundation.\n",
       "   All Rights Reserved.\n",
       "   \n",
       "   Copyright (c) 2000 BeOpen.com.\n",
       "   All Rights Reserved.\n",
       "   \n",
       "   Copyright (c) 1995-2001 Corporation for National Research Initiatives.\n",
       "   All Rights Reserved.\n",
       "   \n",
       "   Copyright (c) 1991-1995 Stichting Mathematisch Centrum, Amsterdam.\n",
       "   All Rights Reserved.,\n",
       "   'credits':     Thanks to CWI, CNRI, BeOpen.com, Zope Corporation and a cast of thousands\n",
       "       for supporting Python development.  See www.python.org for more information.,\n",
       "   'license': Type license() to see the full license text,\n",
       "   'help': Type help() for interactive help, or help(object) for help about object.,\n",
       "   'execfile': <function _pydev_bundle._pydev_execfile.execfile(file, glob=None, loc=None)>,\n",
       "   'runfile': <function _pydev_bundle.pydev_umd.runfile(filename, args=None, wdir=None, namespace=None)>,\n",
       "   '__IPYTHON__': True,\n",
       "   'display': <function IPython.core.display_functions.display(*objs, include=None, exclude=None, metadata=None, transient=None, display_id=None, raw=False, clear=False, **kwargs)>,\n",
       "   'get_ipython': <bound method InteractiveShell.get_ipython of <ipykernel.zmqshell.ZMQInteractiveShell object at 0x000002AA44B8F850>>}),\n",
       " ('__cached__',\n",
       "  'C:\\\\Compile\\\\careers\\\\careers\\\\game\\\\plugins\\\\__pycache__\\\\careers_All_Strategy.cpython-310.pyc'),\n",
       " ('__doc__', '\\nCreated on Jun 4, 2023\\n\\n@author: don_bacon\\n\\n'),\n",
       " ('__file__',\n",
       "  'C:\\\\Compile\\\\careers\\\\careers\\\\game\\\\plugins\\\\careers_All_Strategy.py'),\n",
       " ('__loader__',\n",
       "  <_frozen_importlib_external.SourceFileLoader at 0x2aa6c79e2c0>),\n",
       " ('__name__', 'careers.game.plugins.careers_All_Strategy'),\n",
       " ('__package__', 'careers.game.plugins'),\n",
       " ('__spec__',\n",
       "  ModuleSpec(name='careers.game.plugins.careers_All_Strategy', loader=<_frozen_importlib_external.SourceFileLoader object at 0x000002AA6C79E2C0>, origin='C:\\\\Compile\\\\careers\\\\careers\\\\game\\\\plugins\\\\careers_All_Strategy.py')),\n",
       " ('random',\n",
       "  <module 'random' from 'C:\\\\Users\\\\dwbze\\\\AppData\\\\Local\\\\Programs\\\\Python\\\\Python310\\\\lib\\\\random.py'>)]"
      ]
     },
     "execution_count": 9,
     "metadata": {},
     "output_type": "execute_result"
    }
   ],
   "source": [
    "import inspect\n",
    "inspect.getmembers(module)"
   ]
  },
  {
   "cell_type": "code",
   "execution_count": null,
   "id": "5265a4a3",
   "metadata": {},
   "outputs": [],
   "source": []
  },
  {
   "cell_type": "code",
   "execution_count": 12,
   "id": "7ee3522c",
   "metadata": {},
   "outputs": [],
   "source": [
    "my_class  = getattr(module, 'Careers_All_Strategy')\n",
    "#instance = my_class()    # takes a CareersGame instance as an argument"
   ]
  },
  {
   "cell_type": "code",
   "execution_count": 20,
   "id": "cad9fa5c",
   "metadata": {},
   "outputs": [],
   "source": [
    "module = modules[0][\"module\"]\n",
    "my_class  = getattr(module, 'Careers_All_Randomizer')\n",
    "#instance = my_class()"
   ]
  },
  {
   "cell_type": "code",
   "execution_count": 57,
   "id": "e55782e9",
   "metadata": {},
   "outputs": [],
   "source": [
    "fp = open(\"resources/editions.json\", \"r\")\n",
    "jtxt = fp.read()\n",
    "editions_txt = json.loads(jtxt)\n",
    "edition_names = editions_txt['editions']   # list of editions\n",
    "edition_names\n",
    "fp.close()"
   ]
  },
  {
   "cell_type": "code",
   "execution_count": 59,
   "id": "609691b2",
   "metadata": {},
   "outputs": [
    {
     "name": "stdout",
     "output_type": "stream",
     "text": [
      "{'careers.game.plugins.careers_All_Strategy': {'classname': 'Careers_All_Strategy', 'active': 1, 'context': 'turn'}, 'careers.game.plugins.careers_All_Randomizer': {'classname': 'Careers_All_Randomizer', 'active': 1, 'context': 'init'}}\n"
     ]
    }
   ],
   "source": [
    "edition = editions_txt[\"Hi-Tech\"]\n",
    "plugins = edition[\"plugins\"]\n",
    "print(plugins)"
   ]
  },
  {
   "cell_type": "code",
   "execution_count": 61,
   "id": "ea386889",
   "metadata": {},
   "outputs": [
    {
     "data": {
      "text/plain": [
       "{'classname': 'Careers_All_Randomizer', 'active': 1, 'context': 'init'}"
      ]
     },
     "execution_count": 61,
     "metadata": {},
     "output_type": "execute_result"
    }
   ],
   "source": [
    "plugins[modules[0][\"name\"]]"
   ]
  },
  {
   "cell_type": "code",
   "execution_count": 52,
   "id": "65571419",
   "metadata": {},
   "outputs": [
    {
     "data": {
      "text/plain": [
       "'careers.game.plugins.careers_All_Randomizer'"
      ]
     },
     "execution_count": 52,
     "metadata": {},
     "output_type": "execute_result"
    }
   ],
   "source": [
    "modules[0][\"name\"]"
   ]
  },
  {
   "cell_type": "code",
   "execution_count": null,
   "id": "5dc9b1f8",
   "metadata": {},
   "outputs": [],
   "source": []
  }
 ],
 "metadata": {
  "kernelspec": {
   "display_name": "Python 3 (ipykernel)",
   "language": "python",
   "name": "python3"
  },
  "language_info": {
   "codemirror_mode": {
    "name": "ipython",
    "version": 3
   },
   "file_extension": ".py",
   "mimetype": "text/x-python",
   "name": "python",
   "nbconvert_exporter": "python",
   "pygments_lexer": "ipython3",
   "version": "3.10.6"
  }
 },
 "nbformat": 4,
 "nbformat_minor": 5
}
