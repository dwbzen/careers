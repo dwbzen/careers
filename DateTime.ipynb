{
 "cells": [
  {
   "cell_type": "code",
   "execution_count": 1,
   "metadata": {},
   "outputs": [],
   "source": [
    "import notebook\n",
    "import pandas as pd\n",
    "import pathlib\n",
    "import numpy as np\n",
    "import math\n",
    "import random\n",
    "import json, sys\n",
    "from datetime import date, timedelta, time, datetime\n",
    "from careers.game import SuccessFormula\n",
    "\n",
    "#sys.path.append('C:\\\\Compile\\\\careers\\\\careers')\n",
    "#sys.path"
   ]
  },
  {
   "cell_type": "code",
   "execution_count": 2,
   "metadata": {},
   "outputs": [
    {
     "name": "stdout",
     "output_type": "stream",
     "text": [
      " base_date: 2000-01-01 00:00:00, today: 2022-08-19 11:25:09.247215\n",
      "2022-8-19 11259\n"
     ]
    }
   ],
   "source": [
    "today = datetime.now()\n",
    "base_date = datetime(2000,1,1,0,0,0,0)\n",
    "print(f\" base_date: {base_date}, today: {today}\")\n",
    "print(f'{today.year}-{today.month}-{today.day} {today.hour}{today.minute}{today.second}')"
   ]
  },
  {
   "cell_type": "code",
   "execution_count": 3,
   "metadata": {},
   "outputs": [
    {
     "data": {
      "text/plain": [
       "'2022-08-18_10:51:49'"
      ]
     },
     "execution_count": 3,
     "metadata": {},
     "output_type": "execute_result"
    }
   ],
   "source": [
    "'{0:d}-{1:02d}-{2:02d}_{3:02d}:{4:02d}:{5:02d}'.format(today.year,today.month, today.day, today.hour, today.minute, today.second)"
   ]
  },
  {
   "cell_type": "code",
   "execution_count": 19,
   "metadata": {},
   "outputs": [
    {
     "name": "stdout",
     "output_type": "stream",
     "text": [
      "20220816_1021_9680\n"
     ]
    }
   ],
   "source": [
    "print('{0:d}{1:02d}{2:02d}_{3:02d}{4:02d}_{5:04d}'.format(today.year, today.month, today.day,today.hour, today.minute, random.randint(1000,9999)))"
   ]
  },
  {
   "cell_type": "code",
   "execution_count": 4,
   "metadata": {},
   "outputs": [
    {
     "name": "stdout",
     "output_type": "stream",
     "text": [
      "<class 'datetime.datetime'>\n",
      "<class 'datetime.datetime'>\n"
     ]
    }
   ],
   "source": [
    "print(type(today))\n",
    "print(type(base_date))"
   ]
  },
  {
   "cell_type": "code",
   "execution_count": 5,
   "metadata": {},
   "outputs": [],
   "source": [
    "delta = today-base_date"
   ]
  },
  {
   "cell_type": "code",
   "execution_count": 6,
   "metadata": {},
   "outputs": [
    {
     "name": "stdout",
     "output_type": "stream",
     "text": [
      "8259\n",
      "444897\n"
     ]
    }
   ],
   "source": [
    "print(delta.days)\n",
    "print(delta.microseconds)"
   ]
  },
  {
   "cell_type": "code",
   "execution_count": 7,
   "metadata": {},
   "outputs": [
    {
     "data": {
      "text/plain": [
       "713613969.444897"
      ]
     },
     "execution_count": 7,
     "metadata": {},
     "output_type": "execute_result"
    }
   ],
   "source": [
    "delta.total_seconds()"
   ]
  },
  {
   "cell_type": "code",
   "execution_count": 8,
   "metadata": {},
   "outputs": [],
   "source": [
    "aseed = math.trunc(delta.total_seconds())\n",
    "random.seed(aseed)"
   ]
  },
  {
   "cell_type": "code",
   "execution_count": 10,
   "metadata": {},
   "outputs": [
    {
     "data": {
      "text/plain": [
       "array([ 8,  9,  4,  5,  2,  7,  9,  3, 10,  7])"
      ]
     },
     "execution_count": 10,
     "metadata": {},
     "output_type": "execute_result"
    }
   ],
   "source": [
    "np.random.randint(1, 11, size=10)"
   ]
  },
  {
   "cell_type": "code",
   "execution_count": 13,
   "metadata": {},
   "outputs": [
    {
     "name": "stdout",
     "output_type": "stream",
     "text": [
      "Player name: \n",
      "\n"
     ]
    }
   ],
   "source": [
    "s = input(\"Player name: \")\n",
    "print(s)"
   ]
  },
  {
   "cell_type": "code",
   "execution_count": 15,
   "metadata": {},
   "outputs": [
    {
     "data": {
      "text/plain": [
       "5222"
      ]
     },
     "execution_count": 15,
     "metadata": {},
     "output_type": "execute_result"
    }
   ],
   "source": [
    "random.randint(1000,9999)"
   ]
  },
  {
   "cell_type": "code",
   "execution_count": 15,
   "metadata": {},
   "outputs": [],
   "source": [
    "import math\n",
    "from datetime import date, timedelta, time, datetime\n",
    "def time_since(base_date:datetime=datetime(2000, 1, 1, 0, 0),  end_date=datetime.now(), what='seconds') -> int:\n",
    "    \"\"\"Gets the number of seconds or days that has passed since a given base date/datetime\n",
    "        Arguments:\n",
    "            base_date : the base date, default is 12:00 AM 2000-01-01\n",
    "            what : 'seconds' or 'days'\n",
    "        Returns:\n",
    "            The seconds or days since the base date to now, truncated to an integer\n",
    "    \"\"\"\n",
    "    delta = end_date-base_date\n",
    "    if what=='seconds':\n",
    "        return math.trunc(delta.total_seconds())\n",
    "    else:   # assume days\n",
    "        return delta.days"
   ]
  },
  {
   "cell_type": "code",
   "execution_count": 16,
   "metadata": {},
   "outputs": [
    {
     "data": {
      "text/plain": [
       "713614100"
      ]
     },
     "execution_count": 16,
     "metadata": {},
     "output_type": "execute_result"
    }
   ],
   "source": [
    "time_since()   # since midnight 1/1/2000"
   ]
  },
  {
   "cell_type": "code",
   "execution_count": 65,
   "metadata": {},
   "outputs": [
    {
     "data": {
      "text/plain": [
       "2207621094"
      ]
     },
     "execution_count": 65,
     "metadata": {},
     "output_type": "execute_result"
    }
   ],
   "source": [
    "bday = datetime(1951,12,27,6,33,0,0)\n",
    "time_since(bday)    # since my birthday"
   ]
  },
  {
   "cell_type": "code",
   "execution_count": 66,
   "metadata": {},
   "outputs": [
    {
     "data": {
      "text/plain": [
       "25551"
      ]
     },
     "execution_count": 66,
     "metadata": {},
     "output_type": "execute_result"
    }
   ],
   "source": [
    "daze = time_since(bday, what='days')\n",
    "daze"
   ]
  },
  {
   "cell_type": "code",
   "execution_count": 67,
   "metadata": {},
   "outputs": [
    {
     "data": {
      "text/plain": [
       "array([ 1, 10,  4,  3, 10, 10,  1,  4,  9, 10])"
      ]
     },
     "execution_count": 67,
     "metadata": {},
     "output_type": "execute_result"
    }
   ],
   "source": [
    "random.seed(time_since())\n",
    "np.random.randint(1, 11, size=10)"
   ]
  },
  {
   "cell_type": "code",
   "execution_count": 17,
   "metadata": {},
   "outputs": [
    {
     "name": "stdout",
     "output_type": "stream",
     "text": [
      "0:00:01.203993\n"
     ]
    }
   ],
   "source": [
    "now = datetime.now()\n",
    "for i in range(10000000): i+=1\n",
    "delta = datetime.now() - now\n",
    "print(delta)"
   ]
  },
  {
   "cell_type": "code",
   "execution_count": 19,
   "metadata": {},
   "outputs": [
    {
     "name": "stdout",
     "output_type": "stream",
     "text": [
      "[7, 32, 39, 23, 13, 9, 3, 15, 33, 30, 1, 11, 37, 18, 43, 35, 21, 47, 2, 48, 44, 34, 26, 31, 38, 4, 45, 19, 22, 20, 10, 29, 14, 24, 42, 28, 49, 40, 36, 16, 25, 6, 50, 12, 27, 5, 41, 8, 46, 17]\n"
     ]
    }
   ],
   "source": [
    "# shuffle\n",
    "experience_count = 50   # 50 experience cards total\n",
    "experience_cards_index = random.sample(list(range(1,experience_count+1)),experience_count)  #shuffle\n",
    "print(experience_cards_index)"
   ]
  },
  {
   "cell_type": "code",
   "execution_count": 2,
   "metadata": {},
   "outputs": [],
   "source": [
    "from careers.game import SuccessFormula"
   ]
  },
  {
   "cell_type": "code",
   "execution_count": 3,
   "metadata": {},
   "outputs": [],
   "source": [
    "sf = SuccessFormula(20,30,50)"
   ]
  },
  {
   "cell_type": "code",
   "execution_count": 4,
   "metadata": {},
   "outputs": [
    {
     "data": {
      "text/plain": [
       "'Money: $50,000  Fame: 20  Happiness: 30'"
      ]
     },
     "execution_count": 4,
     "metadata": {},
     "output_type": "execute_result"
    }
   ],
   "source": [
    "str(sf)"
   ]
  },
  {
   "cell_type": "code",
   "execution_count": 20,
   "metadata": {},
   "outputs": [],
   "source": [
    "border_types = [\"payday\", \"opportunity\", \"payTax\", \"enterOccupation\", \"enterCollege\", \"buyHearts\", \"buyStars\", \"buyExperience\",\\\n",
    "                \"hospital\", \"unemployment\", \"buyInsurance\", \"gamble\" ]\n",
    "\n",
    "occupation_types = [\"loseNextTurn\", \"travelShortcut\", \"travelOccupation\", \"cashLossOrUnemployment\",\\\n",
    "                     \"salaryIncrease\", \"salaryCut\", \"bonus\", \"favors\", \"backstab\", \"fameLoss\", \"hapinessLoss\"]\n",
    "\n",
    "common_types = [\"travelBorder\", \"cashLoss\"]\n",
    "all_types = border_types + occupation_types + common_types"
   ]
  },
  {
   "cell_type": "code",
   "execution_count": 27,
   "metadata": {},
   "outputs": [],
   "source": [
    "text = '''{\n",
    "\t\t\t\t\"specialProcessing\" : {\n",
    "\t\t\t\t\t\"type\" : \"buyHearts\",\n",
    "\t\t\t\t\t\"amount\" : 1000,\n",
    "\t\t\t\t\t\"limit\" : \"salary\",\n",
    "\t\t\t\t\t\"penalty\" : 1\n",
    "\t\t\t\t}\n",
    "}'''"
   ]
  },
  {
   "cell_type": "code",
   "execution_count": 7,
   "metadata": {},
   "outputs": [],
   "source": [
    "def roll(number_of_dice):\n",
    "    return random.choices(population=[1,2,3,4,5,6],k=number_of_dice)\n",
    "\n",
    "def retire():\n",
    "    return player + \" You are on Spring Break\"\n",
    "\n",
    "def done():\n",
    "    return player + \" Turn over\"\n",
    "\n",
    "def list(txt):\n",
    "    return player + \" Here it is: \" + txt\n",
    "\n",
    "def where(t1, t2):   # where am I\n",
    "    return \"You are on square# 3 of Pfizer\"   # for example\n"
   ]
  },
  {
   "cell_type": "code",
   "execution_count": 5,
   "metadata": {},
   "outputs": [],
   "source": [
    "player = \"Don\"\n",
    "\n",
    "def parse_command_string(txt, addl_args=[]):\n",
    "    \"\"\"Parses a command string into a string that can be evaulated using eval()\n",
    "    \n",
    "    \"\"\"\n",
    "    command_args = txt.split()\n",
    "    command = command_args[0]\n",
    "    if len(command_args) > 1:\n",
    "        args = command_args[1:]\n",
    "        command = command + \"(\"\n",
    "        for arg in args:\n",
    "            if arg.isdigit():\n",
    "                command = command + arg + \",\"\n",
    "            else:\n",
    "                command = command + f'\"{arg}\",'\n",
    "    \n",
    "        command = command[:-1] \n",
    "    else:\n",
    "        command = command + \"(\"\n",
    "        \n",
    "    if addl_args is not None and len(addl_args) > 0:\n",
    "        for arg in addl_args:\n",
    "            command = command + f'\"{arg}\",'\n",
    "        command = command[:-1]\n",
    "        \n",
    "    return command + \")\"\n",
    "\n",
    "def evaluate(command):\n",
    "    return eval(command)"
   ]
  },
  {
   "cell_type": "code",
   "execution_count": 8,
   "metadata": {},
   "outputs": [
    {
     "data": {
      "text/plain": [
       "'where(\"am\",\"I\")'"
      ]
     },
     "execution_count": 8,
     "metadata": {},
     "output_type": "execute_result"
    }
   ],
   "source": [
    "\n",
    "cmd = parse_command_string(\"where am I\")\n",
    "cmd"
   ]
  },
  {
   "cell_type": "code",
   "execution_count": 9,
   "metadata": {},
   "outputs": [
    {
     "data": {
      "text/plain": [
       "'You are on square# 3 of Pfizer'"
      ]
     },
     "execution_count": 9,
     "metadata": {},
     "output_type": "execute_result"
    }
   ],
   "source": [
    "evaluate(cmd)"
   ]
  },
  {
   "cell_type": "code",
   "execution_count": 13,
   "metadata": {},
   "outputs": [],
   "source": [
    "nums_squared_gc = (num**2 for num in range(5))"
   ]
  },
  {
   "cell_type": "code",
   "execution_count": 2,
   "metadata": {},
   "outputs": [],
   "source": [
    "x = {5 : {\"quantity\" : 2, \"text\" : \"OPPORTUNITY to join Disney\\nMeet Normal Requirements\\nMay save or sell.\"} }\n",
    "x[7] = {\"quantity\" : 1, \"text\" : \"OPPORTUNITY to join Google\\nMeet Normal Requirements\\nMay save or sell.\"} "
   ]
  },
  {
   "cell_type": "code",
   "execution_count": 16,
   "metadata": {},
   "outputs": [],
   "source": [
    "x = []\n",
    "c1 = {5 : {\"quantity\" : 2, \"text\" : \"OPPORTUNITY to join Disney\\nMeet Normal Requirements\\nMay save or sell.\"}}\n",
    "c2 = {7: {\"quantity\" : 1, \"text\" : \"OPPORTUNITY to join Google\\nMeet Normal Requirements\\nMay save or sell.\"} }\n",
    "c3 = {3: {\"quantity\" : 1, \"text\" : \"OPPORTUNITY to join FMC\\nMeet Normal Requirements\\nMay save or sell.\"} }\n",
    "x.append(c1)\n",
    "x.append(c2)\n",
    "x.append(c3)"
   ]
  },
  {
   "cell_type": "code",
   "execution_count": 18,
   "metadata": {},
   "outputs": [
    {
     "data": {
      "text/plain": [
       "[{5: {'quantity': 2,\n",
       "   'text': 'OPPORTUNITY to join Disney\\nMeet Normal Requirements\\nMay save or sell.'}},\n",
       " {3: {'quantity': 1,\n",
       "   'text': 'OPPORTUNITY to join FMC\\nMeet Normal Requirements\\nMay save or sell.'}}]"
      ]
     },
     "execution_count": 18,
     "metadata": {},
     "output_type": "execute_result"
    }
   ],
   "source": [
    "x.remove(c2)\n",
    "x"
   ]
  },
  {
   "cell_type": "code",
   "execution_count": null,
   "metadata": {},
   "outputs": [],
   "source": []
  }
 ],
 "metadata": {
  "kernelspec": {
   "display_name": "Python 3",
   "language": "python",
   "name": "python3"
  },
  "language_info": {
   "codemirror_mode": {
    "name": "ipython",
    "version": 3
   },
   "file_extension": ".py",
   "mimetype": "text/x-python",
   "name": "python",
   "nbconvert_exporter": "python",
   "pygments_lexer": "ipython3",
   "version": "3.9.13"
  }
 },
 "nbformat": 4,
 "nbformat_minor": 4
}
