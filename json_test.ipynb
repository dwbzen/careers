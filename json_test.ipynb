{
 "cells": [
  {
   "cell_type": "code",
   "execution_count": 2,
   "metadata": {},
   "outputs": [],
   "source": [
    "\n",
    "import argparse, string, pathlib\n",
    "import json, re, random, sys\n",
    "import joblib, jsonpickle"
   ]
  },
  {
   "cell_type": "code",
   "execution_count": 3,
   "metadata": {},
   "outputs": [
    {
     "data": {
      "text/plain": [
       "['C:\\\\Compile\\\\careers',\n",
       " 'C:\\\\Compile\\\\careers\\\\careers',\n",
       " 'C:\\\\Compile\\\\dwbzen\\\\dwbzen',\n",
       " 'C:\\\\Compile\\\\careers',\n",
       " 'C:\\\\Users\\\\dwbze\\\\AppData\\\\Local\\\\Programs\\\\Python\\\\Python310\\\\python310.zip',\n",
       " 'C:\\\\Users\\\\dwbze\\\\AppData\\\\Local\\\\Programs\\\\Python\\\\Python310\\\\DLLs',\n",
       " 'C:\\\\Users\\\\dwbze\\\\AppData\\\\Local\\\\Programs\\\\Python\\\\Python310\\\\lib',\n",
       " 'C:\\\\Users\\\\dwbze\\\\AppData\\\\Local\\\\Programs\\\\Python\\\\Python310',\n",
       " 'C:\\\\python\\\\dwbzen10',\n",
       " '',\n",
       " 'C:\\\\python\\\\dwbzen10\\\\lib\\\\site-packages',\n",
       " 'C:\\\\python\\\\dwbzen10\\\\lib\\\\site-packages\\\\win32',\n",
       " 'C:\\\\python\\\\dwbzen10\\\\lib\\\\site-packages\\\\win32\\\\lib',\n",
       " 'C:\\\\python\\\\dwbzen10\\\\lib\\\\site-packages\\\\Pythonwin']"
      ]
     },
     "execution_count": 3,
     "metadata": {},
     "output_type": "execute_result"
    }
   ],
   "source": [
    "#sys.path.append('C:\\\\Compile\\\\careers\\\\careers')\n",
    "#sys.path.append('.')\n",
    "sys.path"
   ]
  },
  {
   "cell_type": "code",
   "execution_count": 2,
   "metadata": {},
   "outputs": [
    {
     "data": {
      "text/plain": [
       "['Environment',\n",
       " 'Path',\n",
       " '__all__',\n",
       " '__author__',\n",
       " '__builtins__',\n",
       " '__cached__',\n",
       " '__doc__',\n",
       " '__file__',\n",
       " '__loader__',\n",
       " '__name__',\n",
       " '__package__',\n",
       " '__path__',\n",
       " '__spec__',\n",
       " '__version__',\n",
       " 'absolute_import',\n",
       " 'environment',\n",
       " 'file',\n",
       " 'game',\n",
       " 'package_root_directory',\n",
       " 'server']"
      ]
     },
     "execution_count": 2,
     "metadata": {},
     "output_type": "execute_result"
    }
   ],
   "source": [
    "import careers\n",
    "dir(careers)"
   ]
  },
  {
   "cell_type": "code",
   "execution_count": 3,
   "metadata": {},
   "outputs": [
    {
     "data": {
      "text/plain": [
       "{'editions': ['Hi-Tech', 'UK'],\n",
       " 'Hi-Tech': {'version': '0.0.1',\n",
       "  'full_name': 'Hi Tech Edition',\n",
       "  'Help': 'Rule Book v2 booklet.pdf',\n",
       "  'Game Parameters': 'gameParameters_Hi-Tech.json',\n",
       "  'Opportunity Cards': 'opportunityCards_Hi-Tech.json',\n",
       "  'Experience Cards': 'experienceCards_Hi-Tech.json',\n",
       "  'Occupations': 'occupations_Hi-Tech.json',\n",
       "  'Players': 'players_Hi-Tech.json',\n",
       "  'Layout': 'gameLayout_Hi-Tech.json',\n",
       "  'Rules': 'rules.json',\n",
       "  'configuration': {'starting_salary': 2000, 'initial_cash': 2000}},\n",
       " 'UK': {'version': '0.0.1',\n",
       "  'full_name': 'UK Edition: Destination London',\n",
       "  'Help': 'Rule Book Destination London.pdf',\n",
       "  'Game Parameters': 'gameParameters_UK.json',\n",
       "  'Opportunity Cards': 'opportunityCards_UK.json',\n",
       "  'Experience Cards': 'experienceCards_UK.json',\n",
       "  'Occupations': 'occupations_UK.json',\n",
       "  'Players': 'players_UK.json',\n",
       "  'Layout': 'gameLayout_UK.json',\n",
       "  'Rules': 'rules_UK.json',\n",
       "  'configuration': {'starting_salary': 2000, 'initial_cash': 2500}}}"
      ]
     },
     "execution_count": 3,
     "metadata": {},
     "output_type": "execute_result"
    }
   ],
   "source": [
    "filename = \"./resources/editions.json\"\n",
    "fp = open(filename, \"r\")\n",
    "jtxt = fp.read()\n",
    "editions = json.loads(jtxt)\n",
    "editions"
   ]
  },
  {
   "cell_type": "code",
   "execution_count": 4,
   "metadata": {},
   "outputs": [
    {
     "name": "stdout",
     "output_type": "stream",
     "text": [
      "dict_keys(['editions', 'Hi-Tech', 'UK'])\n",
      "{'version': '0.0.1', 'full_name': 'Hi Tech Edition', 'Help': 'Rule Book v2 booklet.pdf', 'Game Parameters': 'gameParameters_Hi-Tech.json', 'Opportunity Cards': 'opportunityCards_Hi-Tech.json', 'Experience Cards': 'experienceCards_Hi-Tech.json', 'Occupations': 'occupations_Hi-Tech.json', 'Players': 'players_Hi-Tech.json', 'Layout': 'gameLayout_Hi-Tech.json', 'Rules': 'rules.json', 'configuration': {'starting_salary': 2000, 'initial_cash': 2000}}\n",
      "\n",
      "editions: ['Hi-Tech', 'UK']\n"
     ]
    }
   ],
   "source": [
    "print(editions.keys())\n",
    "print(editions['Hi-Tech'])\n",
    "print(f\"\\neditions: {editions['editions']}\")"
   ]
  },
  {
   "cell_type": "code",
   "execution_count": 5,
   "metadata": {},
   "outputs": [
    {
     "data": {
      "text/plain": [
       "True"
      ]
     },
     "execution_count": 5,
     "metadata": {},
     "output_type": "execute_result"
    }
   ],
   "source": [
    "'Hi-Tech' in editions['editions']"
   ]
  },
  {
   "cell_type": "code",
   "execution_count": 6,
   "metadata": {},
   "outputs": [
    {
     "data": {
      "text/plain": [
       "['FMC',\n",
       " 'UF',\n",
       " 'Amazon',\n",
       " 'ESPN',\n",
       " 'Disney',\n",
       " 'ListerAndBacon',\n",
       " 'Facebook',\n",
       " 'Google',\n",
       " 'Pfizer',\n",
       " 'SpaceX']"
      ]
     },
     "execution_count": 6,
     "metadata": {},
     "output_type": "execute_result"
    }
   ],
   "source": [
    "fp = open(\"./resources/occupations_Hi-Tech.json\", \"r\")\n",
    "occupations = json.loads(fp.read())\n",
    "occupations['occupations']"
   ]
  },
  {
   "cell_type": "code",
   "execution_count": 7,
   "metadata": {},
   "outputs": [
    {
     "data": {
      "text/plain": [
       "{'starting_salary': 2000,\n",
       " 'starting_cash': 2000,\n",
       " 'currency': 'Pounds',\n",
       " 'currency_symbol': '£',\n",
       " 'date_format': 'yyyy-dd-mm',\n",
       " 'starting_experience_cards': 0,\n",
       " 'starting_opportunity_cards': 0,\n",
       " 'default_game_points': 100,\n",
       " 'timed_game': 0,\n",
       " 'default_game_minutes': 60,\n",
       " 'allow_negative_experience': 1}"
      ]
     },
     "execution_count": 7,
     "metadata": {},
     "output_type": "execute_result"
    }
   ],
   "source": [
    "fp = open(\"./resources/gameParameters_UK.json\", \"r\")\n",
    "jtxt = fp.read()\n",
    "game_parameters = json.loads(jtxt)\n",
    "game_parameters"
   ]
  },
  {
   "cell_type": "code",
   "execution_count": 8,
   "metadata": {},
   "outputs": [
    {
     "name": "stdout",
     "output_type": "stream",
     "text": [
      "FMC loaded\n",
      "UF loaded\n",
      "Amazon loaded\n",
      "ESPN loaded\n",
      "Disney loaded\n",
      "ListerAndBacon loaded\n",
      "Facebook loaded\n",
      "Google loaded\n",
      "Pfizer loaded\n",
      "SpaceX loaded\n"
     ]
    }
   ],
   "source": [
    "# occupation in its own JSON file\n",
    "# \n",
    "all_occupations = dict()\n",
    "for ocname in occupations['occupations']:\n",
    "    fp = open(\"./resources/\" + ocname + \"_Hi-Tech.json\", \"r\")\n",
    "    jtxt = fp.read()\n",
    "    occupation = json.loads(jtxt)\n",
    "    all_occupations[ocname] = occupation\n",
    "    print(occupation['name'] + \" loaded\")"
   ]
  },
  {
   "cell_type": "code",
   "execution_count": 9,
   "metadata": {},
   "outputs": [
    {
     "data": {
      "text/plain": [
       "{'occupationClass': 'occupation',\n",
       " 'fullName': 'FMC',\n",
       " 'background_image': 'occupation_entrance.png',\n",
       " 'image': 'FMC logo.jpg',\n",
       " 'entryFee': 1000,\n",
       " 'size': 12,\n",
       " 'entrance_square_number': 4,\n",
       " 'exit_square_number': 5,\n",
       " 'text': 'Must have: $1000 recruiting fee; or Agronomy degree; or FMC experience',\n",
       " 'degreeRequirements': {'degreeName': 'Agronomy', 'numberRequired': 1}}"
      ]
     },
     "execution_count": 9,
     "metadata": {},
     "output_type": "execute_result"
    }
   ],
   "source": [
    "all_occupations['FMC']['configuration']"
   ]
  },
  {
   "cell_type": "code",
   "execution_count": 10,
   "metadata": {},
   "outputs": [
    {
     "data": {
      "text/plain": [
       "dict"
      ]
     },
     "execution_count": 10,
     "metadata": {},
     "output_type": "execute_result"
    }
   ],
   "source": [
    "type(occupation['occupationSquares'][0])"
   ]
  },
  {
   "cell_type": "code",
   "execution_count": 11,
   "metadata": {},
   "outputs": [
    {
     "data": {
      "text/plain": [
       "[{'number': 0,\n",
       "  'background_image': 'occupation_square.png',\n",
       "  'text': 'Cape Canaveral is beautiful',\n",
       "  'stars': 0,\n",
       "  'hearts': 2,\n",
       "  'bonus': 0,\n",
       "  'experience': 0,\n",
       "  'opportunities': 0,\n",
       "  'action_text': '',\n",
       "  'specialProcessing': {}},\n",
       " {'number': 1,\n",
       "  'background_image': 'occupation_square.png',\n",
       "  'text': 'Successful Falcon Heavy take-off',\n",
       "  'stars': 6,\n",
       "  'hearts': 0,\n",
       "  'bonus': 0,\n",
       "  'experience': 0,\n",
       "  'opportunities': 0,\n",
       "  'action_text': '',\n",
       "  'specialProcessing': {}}]"
      ]
     },
     "execution_count": 11,
     "metadata": {},
     "output_type": "execute_result"
    }
   ],
   "source": [
    "occupation['occupationSquares'][0:2]"
   ]
  },
  {
   "cell_type": "code",
   "execution_count": 12,
   "metadata": {},
   "outputs": [
    {
     "data": {
      "text/plain": [
       "{'type': 'fameLoss', 'amount': 0, 'percent': 1.0}"
      ]
     },
     "execution_count": 12,
     "metadata": {},
     "output_type": "execute_result"
    }
   ],
   "source": [
    "occupation['occupationSquares'][2]['specialProcessing']"
   ]
  },
  {
   "cell_type": "code",
   "execution_count": 13,
   "metadata": {},
   "outputs": [
    {
     "data": {
      "text/plain": [
       "{'Help': 'Board layout for the Hi-Tech version.',\n",
       " 'type_list': ['corner_square',\n",
       "  'opportunity_square',\n",
       "  'danger_square',\n",
       "  'travel_square',\n",
       "  'occupation_entrance_square',\n",
       "  'action_square'],\n",
       " 'types': [{'type': 'corner_square',\n",
       "   'Help': 'Payday, Hospital, Unemployment and SpringBreak are the corner squares.'},\n",
       "  {'type': 'opportunity_square', 'Help': 'Collect an Opportunity Card.'},\n",
       "  {'type': 'danger_square',\n",
       "   'Help': 'A square where the player can expect to lose some cash.'},\n",
       "  {'type': 'travel_square', 'Help': 'Travel by rail on Amtrak.'},\n",
       "  {'type': 'occupation_entrance_square',\n",
       "   'Help': 'A player may enter an occupation after meeting the requirments.'},\n",
       "  {'type': 'action_square', 'Help': 'Perform a non-movement action.'}],\n",
       " 'dimensions': {'size': 42, 'sides': [10, 13, 10, 13]},\n",
       " 'layout': [{'number': 0,\n",
       "   'name': 'Payday',\n",
       "   'class': 'Border',\n",
       "   'type': 'corner_square',\n",
       "   'background_image': 'corner_square.png',\n",
       "   'image': 'startHereAndArrow.jpg',\n",
       "   'text': 'Collect Salary as you pass PAYDAY\\n Collect DOUBLE if you land here',\n",
       "   'specialProcessing': {'type': 'payday', 'amount': 'salary'}},\n",
       "  {'number': 1,\n",
       "   'name': 'Opportunity',\n",
       "   'type': 'opportunity_square',\n",
       "   'background_image': 'opportunity.png',\n",
       "   'text': 'OPPORTUNITY KNOCKS',\n",
       "   'specialProcessing': {'type': 'opportunity'}},\n",
       "  {'number': 2,\n",
       "   'name': 'IncomeTax',\n",
       "   'type': 'danger_square',\n",
       "   'background_image': 'danger_border_square.png',\n",
       "   'text': 'INCOME TAX DUE',\n",
       "   'action_text': 'If salary is: $3,000 or less pay 20%\\n $3,001 to $10,000 pay 40%\\n $10,001 to $20,000 pay 60%\\n $20,001 or more pay 90%\\n of 1 years salary',\n",
       "   'specialProcessing': {'type': 'payTax', 'amount': '%salary'}},\n",
       "  {'number': 3,\n",
       "   'name': 'Amtrak',\n",
       "   'type': 'travel_square',\n",
       "   'background_image': 'amtrak.png',\n",
       "   'text': '',\n",
       "   'specialProcessing': {'type': 'travelBorder', 'next_square': 13}},\n",
       "  {'number': 4,\n",
       "   'name': 'FMC',\n",
       "   'type': 'occupation_entrance_square',\n",
       "   'background_image': 'occupation_entrance_square.png',\n",
       "   'image': 'fmc-logo small.jpg',\n",
       "   'text': '',\n",
       "   'specialProcessing': {'type': 'enterOccupation',\n",
       "    'destinationOccupation': 'FMC'}},\n",
       "  {'number': 5,\n",
       "   'name': 'Opportunity',\n",
       "   'type': 'opportunity_square',\n",
       "   'background_image': 'opportunity.png',\n",
       "   'text': 'OPPORTUNITY KNOCKS',\n",
       "   'specialProcessing': {'type': 'opportunity'}},\n",
       "  {'number': 6,\n",
       "   'name': 'TechConvention',\n",
       "   'type': 'action_square',\n",
       "   'background_image': 'light blue action square.png',\n",
       "   'text': \"May spend up to 1 year's annual salary for the latest gaming system.\\nScore 1 Heart for each $1000 spend,\\nor lose 1 for 'just looking'\",\n",
       "   'specialProcessing': {'type': 'buyHearts',\n",
       "    'amount': 1000,\n",
       "    'limit': 'salary',\n",
       "    'penalty': 1}},\n",
       "  {'number': 7,\n",
       "   'name': 'UF',\n",
       "   'background_image': 'occupation_entrance_square.png',\n",
       "   'image': 'UF logo.jpg',\n",
       "   'type': 'occupation_entrance_square',\n",
       "   'text': '',\n",
       "   'specialProcessing': {'type': 'enterCollege',\n",
       "    'destinationOccupation': 'UF'}},\n",
       "  {'number': 8,\n",
       "   'name': 'Opportunity',\n",
       "   'type': 'opportunity_square',\n",
       "   'background_image': 'opportunity.png',\n",
       "   'text': 'OPPORTUNITY KNOCKS',\n",
       "   'specialProcessing': {'type': 'opportunity'}},\n",
       "  {'number': 9,\n",
       "   'name': 'Hospital',\n",
       "   'type': 'corner_square',\n",
       "   'background_image': 'corner_square.png',\n",
       "   'text': 'HOSPITAL',\n",
       "   'action_text': 'You are LAID UP until you throw 5 or less\\nor pay the Pharmacist/Paymaster 1/2 your salary\\nfor experimental drugs.',\n",
       "   'specialProcessing': {'type': 'hospital',\n",
       "    'must_roll': [2, 3, 4, 5],\n",
       "    'require_doubles': 0}},\n",
       "  {'number': 10,\n",
       "   'name': 'Opportunity',\n",
       "   'type': 'opportunity_square',\n",
       "   'background_image': 'opportunity.png',\n",
       "   'text': 'OPPORTUNITY KNOCKS',\n",
       "   'specialProcessing': {'type': 'opportunity'}},\n",
       "  {'number': 11,\n",
       "   'name': 'DonateNow',\n",
       "   'type': 'danger_square',\n",
       "   'background_image': 'danger_border_square.png',\n",
       "   'text': '**DONATE NOW**',\n",
       "   'specialProcessing': {'type': 'cashLoss', 'dice': 0, 'amount': 1000}},\n",
       "  {'number': 12,\n",
       "   'name': 'Amtrak',\n",
       "   'type': 'travel_square',\n",
       "   'background_image': 'amtrak.png',\n",
       "   'text': '',\n",
       "   'specialProcessing': {'type': 'travelBorder', 'next_square': 23}},\n",
       "  {'number': 13,\n",
       "   'name': 'Amazon',\n",
       "   'type': 'occupation_entrance_square',\n",
       "   'background_image': 'occupation_entrance_square.png',\n",
       "   'image': 'amazon logo.jpg',\n",
       "   'text': '',\n",
       "   'specialProcessing': {'type': 'enterOccupation',\n",
       "    'destinationOccupation': 'Amazon'}},\n",
       "  {'number': 14,\n",
       "   'name': 'Opportunity',\n",
       "   'type': 'opportunity_square',\n",
       "   'background_image': 'opportunity.png',\n",
       "   'text': 'OPPORTUNITY KNOCKS',\n",
       "   'specialProcessing': {'type': 'opportunity'}},\n",
       "  {'number': 15,\n",
       "   'name': 'ESPN',\n",
       "   'type': 'occupation_entrance_square',\n",
       "   'background_image': 'occupation_entrance_square.png',\n",
       "   'image': 'ESPN logo.jpg',\n",
       "   'text': '',\n",
       "   'specialProcessing': {'type': 'enterOccupation',\n",
       "    'destinationOccupation': 'ESPN'}},\n",
       "  {'number': 16,\n",
       "   'name': 'Opportunity',\n",
       "   'type': 'opportunity_square',\n",
       "   'background_image': 'opportunity.png',\n",
       "   'text': 'OPPORTUNITY KNOCKS',\n",
       "   'specialProcessing': {'type': 'opportunity'}},\n",
       "  {'number': 17,\n",
       "   'name': 'CarPayment',\n",
       "   'type': 'danger_square',\n",
       "   'background_image': 'danger_border_square.png',\n",
       "   'text': 'CAR PAYMENT DUE',\n",
       "   'specialProcessing': {'type': 'cashLoss', 'percent': '25% Salary'}},\n",
       "  {'number': 18,\n",
       "   'name': 'Disney',\n",
       "   'type': 'occupation_entrance_square',\n",
       "   'background_image': 'occupation_entrance_square.png',\n",
       "   'image': 'Disney logo.jpg',\n",
       "   'text': '',\n",
       "   'specialProcessing': {'type': 'enterOccupation',\n",
       "    'destinationOccupation': 'Disney'}},\n",
       "  {'number': 19,\n",
       "   'name': 'Opportunity',\n",
       "   'type': 'opportunity_square',\n",
       "   'background_image': 'opportunity.png',\n",
       "   'text': 'OPPORTUNITY KNOCKS',\n",
       "   'specialProcessing': {'type': 'opportunity'}},\n",
       "  {'number': 20,\n",
       "   'name': 'BuyExperience',\n",
       "   'type': 'action_square',\n",
       "   'background_image': 'light blue action square.png',\n",
       "   'text': 'EXPERIENCE',\n",
       "   'action_text': \"Who says you can't buy experience? Buy up to 3 EXPERIENCE cards or lose 1 card for being curious.\",\n",
       "   'specialProcessing': {'type': 'buyExperience',\n",
       "    'amount': {'1': 2000, '2': '4000', '3': 6000},\n",
       "    'limit': '',\n",
       "    'penalty': 1}},\n",
       "  {'number': 21,\n",
       "   'name': 'Unemployment',\n",
       "   'type': 'corner_square',\n",
       "   'background_image': 'corner_square.png',\n",
       "   'text': 'UNEMPLOYMENT',\n",
       "   'action_text': \"You were LAID OFF and must throw 7, 11, or doubles to move on.\\nOR pay 1 year's Salary for additional training.\",\n",
       "   'specialProcessing': {'type': 'unemployment',\n",
       "    'must_roll': [7, 11, 2, 4, 6, 8, 10, 12],\n",
       "    'require_doubles': 1}},\n",
       "  {'number': 22,\n",
       "   'name': 'Amtrak',\n",
       "   'type': 'travel_square',\n",
       "   'background_image': 'amtrak.png',\n",
       "   'text': '',\n",
       "   'specialProcessing': {'type': 'travelBorder', 'next_square': 36}},\n",
       "  {'number': 23,\n",
       "   'name': 'PayRent',\n",
       "   'type': 'danger_square',\n",
       "   'background_image': 'danger_border_square.png',\n",
       "   'text': 'PAY RENT HERE',\n",
       "   'specialProcessing': {'type': 'cashLoss', 'amount': '50% salary'}},\n",
       "  {'number': 24,\n",
       "   'name': 'ListerAndBacon',\n",
       "   'type': 'occupation_entrance_square',\n",
       "   'background_image': 'occupation_entrance_square.png',\n",
       "   'image': 'Lister and Bacon.jpg',\n",
       "   'text': '',\n",
       "   'specialProcessing': {'type': 'enterOccupation',\n",
       "    'destinationOccupation': 'ListerAndBacon'}},\n",
       "  {'number': 25,\n",
       "   'name': 'Opportunity',\n",
       "   'type': 'opportunity_square',\n",
       "   'background_image': 'opportunity.png',\n",
       "   'text': 'OPPORTUNITY KNOCKS',\n",
       "   'specialProcessing': {'type': 'opportunity'}},\n",
       "  {'number': 26,\n",
       "   'name': 'ShoppingSpree',\n",
       "   'type': 'danger_square',\n",
       "   'background_image': 'danger_border_square.png',\n",
       "   'text': 'ONLINE SHOPPING SPREE',\n",
       "   'specialProcessing': {'type': 'cashLoss', 'dice': 1, 'percent': 0.1}},\n",
       "  {'number': 27,\n",
       "   'name': 'Facebook',\n",
       "   'type': 'occupation_entrance_square',\n",
       "   'background_image': 'occupation_entrance_square.png',\n",
       "   'image': 'facebook logo.jpg',\n",
       "   'text': '',\n",
       "   'specialProcessing': {'type': 'enterOccupation',\n",
       "    'destinationOccupation': 'Facebook'}},\n",
       "  {'number': 28,\n",
       "   'name': 'Opportunity',\n",
       "   'type': 'opportunity_square',\n",
       "   'background_image': 'opportunity.png',\n",
       "   'text': 'OPPORTUNITY KNOCKS',\n",
       "   'specialProcessing': {'type': 'opportunity'}},\n",
       "  {'number': 29,\n",
       "   'name': 'BuyInsurance',\n",
       "   'type': 'action_square',\n",
       "   'background_image': 'light blue action square.png',\n",
       "   'text': 'Insurance Store',\n",
       "   'action_text': 'May purchase insurance to protect your cash,\\nHappiness and Fame from catastrophic loss.\\nCost of coverage is $5,000.',\n",
       "   'specialProcessing': {'type': 'buyInsurance'}},\n",
       "  {'number': 30,\n",
       "   'name': 'SpringBreak',\n",
       "   'type': 'corner_square',\n",
       "   'background_image': 'corner_square.png',\n",
       "   'text': 'TODO',\n",
       "   'specialProcessing': {}},\n",
       "  {'number': 31,\n",
       "   'name': 'Opportunity',\n",
       "   'type': 'opportunity_square',\n",
       "   'background_image': 'opportunity.png',\n",
       "   'text': 'OPPORTUNITY KNOCKS',\n",
       "   'specialProcessing': {'type': 'opportunity'}},\n",
       "  {'number': 32,\n",
       "   'name': 'GambleInVegas',\n",
       "   'type': 'action_square',\n",
       "   'background_image': 'light blue action square.png',\n",
       "   'image': 'Las Vegas.jpg',\n",
       "   'text': 'Gamble in Vegas',\n",
       "   'action_text': 'Roll 2 dice to start gambling.\\n6 or less - lose $1000 x roll of 1 die\\n7 - Jackpot! Collect $10,000\\n8 or more - collect $1000 x roll of 1 die',\n",
       "   'specialProcessing': {'type': 'gamble', 'dice': 2}},\n",
       "  {'number': 33,\n",
       "   'name': 'Google',\n",
       "   'type': 'occupation_entrance_square',\n",
       "   'background_image': 'occupation_entrance_square.png',\n",
       "   'image': 'google logo.jpg',\n",
       "   'text': '',\n",
       "   'specialProcessing': {'type': 'enterOccupation',\n",
       "    'destinationOccupation': 'Google'}},\n",
       "  {'number': 34,\n",
       "   'name': 'Opportunity',\n",
       "   'type': 'opportunity_square',\n",
       "   'background_image': 'opportunity.png',\n",
       "   'text': 'OPPORTUNITY KNOCKS',\n",
       "   'specialProcessing': {'type': 'opportunity'}},\n",
       "  {'number': 35,\n",
       "   'name': 'Amtrak',\n",
       "   'type': 'travel_square',\n",
       "   'background_image': 'amtrak.png',\n",
       "   'text': '',\n",
       "   'specialProcessing': {'type': 'travelBorder', 'next_square': 4}},\n",
       "  {'number': 36,\n",
       "   'name': 'Pfizer',\n",
       "   'type': 'occupation_entrance_square',\n",
       "   'background_image': 'occupation_entrance_square.png',\n",
       "   'image': 'pfizer logo.jpg',\n",
       "   'text': '',\n",
       "   'specialProcessing': {'type': 'enterOccupation',\n",
       "    'destinationOccupation': 'Pfizer'}},\n",
       "  {'number': 37,\n",
       "   'name': 'Opportunity',\n",
       "   'type': 'opportunity_square',\n",
       "   'background_image': 'opportunity.png',\n",
       "   'text': 'OPPORTUNITY KNOCKS',\n",
       "   'specialProcessing': {'type': 'opportunity'}},\n",
       "  {'number': 38,\n",
       "   'name': 'DivorceCourt',\n",
       "   'type': 'danger_square',\n",
       "   'background_image': 'danger_border_square.png',\n",
       "   'image': 'divorce icon.jpg',\n",
       "   'text': 'DIVORCE COURT',\n",
       "   'specialProcessing': {'type': 'cashLoss', 'dice': 2, 'percent': 0.1}},\n",
       "  {'number': 39,\n",
       "   'name': 'VintageCars',\n",
       "   'type': 'action_square',\n",
       "   'background_image': 'light blue action square.png',\n",
       "   'text': 'VINTAGE CARS',\n",
       "   'specialProcessing': {'type': 'buyHearts',\n",
       "    'amount': {'4': 2000, '8': 8000, '12': '16000'},\n",
       "    'limit': '',\n",
       "    'penalty': 0}},\n",
       "  {'number': 40,\n",
       "   'name': 'SpaceX',\n",
       "   'type': 'occupation_entrance_square',\n",
       "   'background_image': 'occupation_entrance_square.png',\n",
       "   'image': 'SpaceX logo.jpg',\n",
       "   'text': '',\n",
       "   'specialProcessing': {'type': 'enterOccupation',\n",
       "    'destinationOccupation': 'SpaceX'}},\n",
       "  {'number': 41,\n",
       "   'name': 'WebPresence',\n",
       "   'type': 'action_square',\n",
       "   'background_image': 'light blue action square.png',\n",
       "   'text': 'WEB PRESENCE',\n",
       "   'action_text': 'May hire consultant to build web site. Score Fame points as follows:',\n",
       "   'specialProcessing': {'type': 'buyStars',\n",
       "    'amount': {'4': 4000, '10': 8000, '16': '12000', '22': 16000},\n",
       "    'limit': '',\n",
       "    'penalty': 0}}]}"
      ]
     },
     "execution_count": 13,
     "metadata": {},
     "output_type": "execute_result"
    }
   ],
   "source": [
    "fp = open(\"./resources/gameLayout_Hi-Tech.json\", \"r\")\n",
    "jtxt = fp.read()\n",
    "hitech_layout = json.loads(jtxt)\n",
    "hitech_layout"
   ]
  },
  {
   "cell_type": "code",
   "execution_count": 14,
   "metadata": {},
   "outputs": [
    {
     "data": {
      "text/plain": [
       "42"
      ]
     },
     "execution_count": 14,
     "metadata": {},
     "output_type": "execute_result"
    }
   ],
   "source": [
    "len(hitech_layout['layout'])"
   ]
  },
  {
   "cell_type": "code",
   "execution_count": 15,
   "metadata": {},
   "outputs": [
    {
     "data": {
      "text/plain": [
       "{'number': 4,\n",
       " 'name': 'FMC',\n",
       " 'type': 'occupation_entrance_square',\n",
       " 'background_image': 'occupation_entrance_square.png',\n",
       " 'image': 'fmc-logo small.jpg',\n",
       " 'text': '',\n",
       " 'specialProcessing': {'type': 'enterOccupation',\n",
       "  'destinationOccupation': 'FMC'}}"
      ]
     },
     "execution_count": 15,
     "metadata": {},
     "output_type": "execute_result"
    }
   ],
   "source": [
    "hitech_layout['layout'][4] #['specialProcessing']"
   ]
  },
  {
   "cell_type": "code",
   "execution_count": 16,
   "metadata": {},
   "outputs": [],
   "source": [
    "fp = open(\"./resources/experienceCards_Hi-Tech.json\", \"r\")\n",
    "jtxt = fp.read()\n",
    "experience_cards = json.loads(jtxt)\n",
    "fp.close()"
   ]
  },
  {
   "cell_type": "markdown",
   "metadata": {},
   "source": []
  },
  {
   "cell_type": "code",
   "execution_count": 3,
   "metadata": {},
   "outputs": [],
   "source": [
    "from careers.game import ExperienceCardDeck"
   ]
  },
  {
   "cell_type": "code",
   "execution_count": 4,
   "metadata": {},
   "outputs": [],
   "source": [
    "card_deck = ExperienceCardDeck('./resources', 'Hi-Tech')"
   ]
  },
  {
   "cell_type": "code",
   "execution_count": 5,
   "metadata": {},
   "outputs": [
    {
     "name": "stdout",
     "output_type": "stream",
     "text": [
      "type: fixed  number: 0 spaces: 1\n"
     ]
    }
   ],
   "source": [
    "card = card_deck.draw()\n",
    "print(f'type: {card.card_type}  number: {card.number} spaces: {card.spaces}')"
   ]
  },
  {
   "cell_type": "code",
   "execution_count": null,
   "metadata": {},
   "outputs": [],
   "source": []
  },
  {
   "cell_type": "code",
   "execution_count": 6,
   "metadata": {},
   "outputs": [],
   "source": [
    "card_deck.shuffle()"
   ]
  },
  {
   "cell_type": "code",
   "execution_count": 7,
   "metadata": {},
   "outputs": [
    {
     "name": "stdout",
     "output_type": "stream",
     "text": [
      "fixed 4  next_index: 2\n",
      "1-die wild 0  next_index: 3\n",
      "fixed -1  next_index: 4\n",
      "fixed -2  next_index: 5\n",
      "1-die wild 0  next_index: 6\n",
      "fixed 3  next_index: 7\n",
      "2-die wild 0  next_index: 8\n",
      "2-die wild 0  next_index: 9\n",
      "fixed 6  next_index: 10\n",
      "fixed 7  next_index: 11\n",
      "fixed 1  next_index: 12\n",
      "fixed -2  next_index: 13\n",
      "fixed 2  next_index: 14\n",
      "fixed 6  next_index: 15\n",
      "fixed 2  next_index: 16\n",
      "2-die wild 0  next_index: 17\n",
      "fixed 6  next_index: 18\n",
      "fixed 6  next_index: 19\n",
      "fixed 5  next_index: 20\n",
      "fixed 3  next_index: 21\n",
      "fixed 5  next_index: 22\n",
      "fixed -1  next_index: 23\n",
      "fixed 5  next_index: 24\n",
      "fixed 1  next_index: 25\n",
      "triple wild 0  next_index: 26\n",
      "fixed 4  next_index: 27\n",
      "fixed 2  next_index: 28\n",
      "fixed 2  next_index: 29\n",
      "fixed 1  next_index: 30\n",
      "fixed 2  next_index: 31\n",
      "fixed 5  next_index: 32\n",
      "fixed 3  next_index: 33\n",
      "fixed 2  next_index: 34\n",
      "fixed 2  next_index: 35\n",
      "1-die wild 0  next_index: 36\n",
      "fixed 3  next_index: 37\n",
      "fixed 3  next_index: 38\n",
      "fixed 3  next_index: 39\n",
      "fixed 4  next_index: 40\n",
      "fixed 7  next_index: 41\n",
      "triple wild 0  next_index: 42\n",
      "fixed 4  next_index: 43\n",
      "fixed 1  next_index: 44\n",
      "fixed 4  next_index: 45\n",
      "triple wild 0  next_index: 46\n",
      "fixed 4  next_index: 47\n",
      "fixed 1  next_index: 48\n",
      "fixed 2  next_index: 49\n",
      "fixed 1  next_index: 50\n",
      "2-die wild 0  next_index: 51\n",
      "fixed 1  next_index: 52\n",
      "triple wild 0  next_index: 53\n",
      "1-die wild 0  next_index: 54\n",
      "fixed 4  next_index: 1\n"
     ]
    }
   ],
   "source": [
    "for i in range(0, card_deck.size):\n",
    "    card = card_deck.draw()\n",
    "    print(f'{card.card_type} {card.spaces}  next_index: {card_deck._next_index}')"
   ]
  },
  {
   "cell_type": "code",
   "execution_count": 8,
   "metadata": {},
   "outputs": [],
   "source": [
    "from careers.game import OpportunityCardDeck\n",
    "card_deck = OpportunityCardDeck('./resources', 'Hi-Tech')"
   ]
  },
  {
   "cell_type": "code",
   "execution_count": 9,
   "metadata": {},
   "outputs": [
    {
     "name": "stdout",
     "output_type": "stream",
     "text": [
      "OPPORTUNITY to buy Insurance\n",
      "Advance to the Insurance Store and pay $5,000 premium\n",
      "May save or sell.\n",
      "  type:border_square, destination:BuyInsurance, expenses paid:False, double happiness:False\n",
      "OPPORTUNITY to join Lister & Bacon\n",
      "Meet Normal Requirements\n",
      "May save or sell.\n",
      "  type:occupation, destination:ListerAndBacon, expenses paid:False, double happiness:False\n",
      "SPECIAL OPPORTUNITY to join ESPN  because of your sports knowledge.\n",
      "All expenses paid and no prior experience required.\n",
      "May save or sell.\n",
      "  type:occupation, destination:ESPN, expenses paid:True, double happiness:False\n",
      "SPECIAL OPPORTUNITY to join Disney because of your Magic touch.\n",
      "DOUBLE all Happiness earned\n",
      "Meet Normal Requirements\n",
      "May save or sell.\n",
      "  type:occupation, destination:Disney, expenses paid:False, double happiness:True\n",
      "OPPORTUNITY to join FMC\n",
      "Meet Normal Requirements\n",
      "May save or sell.\n",
      "  type:occupation, destination:FMC, expenses paid:False, double happiness:False\n",
      "OPPORTUNITY to join ESPN\n",
      "Meet Normal Requirements\n",
      "May save or sell.\n",
      "  type:occupation, destination:ESPN, expenses paid:False, double happiness:False\n",
      "SPECIAL OPPORTUNITY to buy needed padding! Advance to EXPERIENCE square and buy at least 1 and up to 3 EXPERIENCE cards.\n",
      "May save or sell.\n",
      "  type:border_square, destination:BuyExperience, expenses paid:False, double happiness:False\n",
      "GOLDEN  OPPORTUNITY to join the Company of your choice\n",
      "Meet Normal Requirements\n",
      "May save or sell.\n",
      "  type:occupation_choice, destination:None, expenses paid:False, double happiness:False\n",
      "OPPORTUNITY to buy Insurance\n",
      "Advance to the Insurance Store and pay $5,000 premium\n",
      "May save or sell.\n",
      "  type:border_square, destination:BuyInsurance, expenses paid:False, double happiness:False\n",
      "GOLDEN  OPPORTUNITY to advance to ANY border square\n",
      "*meet normal requirements for Occupation or College entrance*\n",
      "May save or sell.\n",
      "  type:border_square_choice, destination:None, expenses paid:False, double happiness:False\n",
      "OPPORTUNITY to join Pfizer\n",
      "Meet Normal Requirements\n",
      "May save or sell.\n",
      "  type:occupation, destination:Pfizer, expenses paid:False, double happiness:False\n",
      "SPECIAL OPPORTUNITY to gain EXPERIENCE!\n",
      "Collect one randomly selected EXPERIENCE card from each player.\n",
      "May save or sell.\n",
      "  type:action, destination:None, expenses paid:False, double happiness:False\n",
      "SPECIAL OPPORTUNITY to enter College on Scholarship, all expenses paid.\n",
      "May save or sell.\n",
      "  type:occupation, destination:UF, expenses paid:True, double happiness:False\n",
      "OPPORTUNITY to Gamble in Las Vegas\n",
      "May save or sell.\n",
      "  type:border_square, destination:GambleInVegas, expenses paid:False, double happiness:False\n",
      "OPPORTUNITY to join SpaceX\n",
      "Meet Normal Requirements\n",
      "May save or sell.\n",
      "  type:occupation, destination:SpaceX, expenses paid:False, double happiness:False\n",
      "OPPORTUNITY to join ESPN\n",
      "Meet Normal Requirements\n",
      "May save or sell.\n",
      "  type:occupation, destination:ESPN, expenses paid:False, double happiness:False\n",
      "SPECIAL OPPORTUNITY to Get an Extra Turn\n",
      "Play at the start of your turn\n",
      "May save or sell.\n",
      "  type:action, destination:None, expenses paid:False, double happiness:False\n",
      "SPECIAL OPPORTUNITY to Get an Extra Turn\n",
      "Play at the start of your turn\n",
      "May save or sell.\n",
      "  type:action, destination:None, expenses paid:False, double happiness:False\n",
      "GOLDEN  OPPORTUNITY to join the Company of your choice\n",
      "Meet Normal Requirements\n",
      "May save or sell.\n",
      "  type:occupation_choice, destination:None, expenses paid:False, double happiness:False\n",
      "OPPORTUNITY to join Amazon\n",
      "Meet Normal Requirements\n",
      "May save or sell.\n",
      "  type:occupation, destination:Amazon, expenses paid:False, double happiness:False\n",
      "TRAVEL OPPORTUNITY Advance to the nearest Amtrak Station and roll again.\n",
      "May save or sell.\n",
      "  type:travel, destination:Amtrak, expenses paid:False, double happiness:False\n",
      "OPPORTUNITY to Gamble in Las Vegas\n",
      "May save or sell.\n",
      "  type:border_square, destination:GambleInVegas, expenses paid:False, double happiness:False\n",
      "OPPORTUNITY to buy Insurance\n",
      "Advance to the Insurance Store and pay $5,000 premium\n",
      "May save or sell.\n",
      "  type:border_square, destination:BuyInsurance, expenses paid:False, double happiness:False\n",
      "Get out of Unemployment free\n",
      "Play this card to immediately leave Unemployment.\n",
      "May save or sell.\n",
      "  type:action, destination:None, expenses paid:False, double happiness:False\n",
      "OPPORTUNITY to join Disney\n",
      "Meet Normal Requirements\n",
      "May save or sell.\n",
      "  type:occupation, destination:Disney, expenses paid:False, double happiness:False\n",
      "GOLDEN  OPPORTUNITY to advance to ANY border square\n",
      "*meet normal requirements for Occupation or College entrance*\n",
      "May save or sell.\n",
      "  type:border_square_choice, destination:None, expenses paid:False, double happiness:False\n",
      "OPPORTUNITY to Gamble in Las Vegas\n",
      "May save or sell.\n",
      "  type:border_square, destination:GambleInVegas, expenses paid:False, double happiness:False\n",
      "SPECIAL OPPORTUNITY to Get an Extra Turn\n",
      "Play at the start of your turn\n",
      "May save or sell.\n",
      "  type:action, destination:None, expenses paid:False, double happiness:False\n",
      "OPPORTUNITY to join Lister & Bacon\n",
      "Meet Normal Requirements\n",
      "May save or sell.\n",
      "  type:occupation, destination:ListerAndBacon, expenses paid:False, double happiness:False\n",
      "OPPORTUNITY to go on Spring Break!\n",
      "May save or sell.\n",
      "  type:border_square, destination:SpringBreak, expenses paid:False, double happiness:False\n",
      "OPPORTUNITY to join Facebook\n",
      "Meet Normal Requirements\n",
      "May save or sell.\n",
      "  type:occupation, destination:Facebook, expenses paid:False, double happiness:False\n",
      "TRAVEL OPPORTUNITY Advance to the nearest Amtrak Station and roll again.\n",
      "May save or sell.\n",
      "  type:travel, destination:Amtrak, expenses paid:False, double happiness:False\n",
      "OPPORTUNITY to enter the University of Florida\n",
      "Meet Normal Requirements\n",
      "May save or sell.\n",
      "  type:occupation, destination:UF, expenses paid:False, double happiness:False\n",
      "SPECIAL OPPORTUNITY to Get an Extra Turn\n",
      "Play at the start of your turn\n",
      "May save or sell.\n",
      "  type:action, destination:None, expenses paid:False, double happiness:False\n",
      "OPPORTUNITY to enter the University of Florida\n",
      "Meet Normal Requirements\n",
      "May save or sell.\n",
      "  type:occupation, destination:UF, expenses paid:False, double happiness:False\n",
      "OPPORTUNITY to join Google\n",
      "Meet Normal Requirements\n",
      "May save or sell.\n",
      "  type:occupation, destination:Google, expenses paid:False, double happiness:False\n",
      "OPPORTUNITY to join Pfizer\n",
      "Meet Normal Requirements\n",
      "May save or sell.\n",
      "  type:occupation, destination:Pfizer, expenses paid:False, double happiness:False\n",
      "OPPORTUNITY to join Amazon\n",
      "Meet Normal Requirements\n",
      "May save or sell.\n",
      "  type:occupation, destination:Amazon, expenses paid:False, double happiness:False\n",
      "OPPORTUNITY to join Google\n",
      "Meet Normal Requirements\n",
      "May save or sell.\n",
      "  type:occupation, destination:Google, expenses paid:False, double happiness:False\n",
      "OPPORTUNITY to join Pfizer\n",
      "Meet Normal Requirements\n",
      "May save or sell.\n",
      "  type:occupation, destination:Pfizer, expenses paid:False, double happiness:False\n",
      "SPECIAL OPPORTUNITY to collect needed cash!\n",
      "Advance to PAYDAY and collect DOUBLE your annual salary.\n",
      "May save or sell.\n",
      "  type:border_square, destination:Payday, expenses paid:False, double happiness:False\n",
      "OPPORTUNITY to join Disney\n",
      "Meet Normal Requirements\n",
      "May save or sell.\n",
      "  type:occupation, destination:Disney, expenses paid:False, double happiness:False\n",
      "SPECIAL OPPORTUNITY to enter College on Scholarship, all expenses paid.\n",
      "May save or sell.\n",
      "  type:occupation, destination:UF, expenses paid:True, double happiness:False\n",
      "SPECIAL OPPORTUNITY to Get an Extra Turn\n",
      "Play at the start of your turn\n",
      "May save or sell.\n",
      "  type:action, destination:None, expenses paid:False, double happiness:False\n",
      "OPPORTUNITY to go on Spring Break!\n",
      "May save or sell.\n",
      "  type:border_square, destination:SpringBreak, expenses paid:False, double happiness:False\n",
      "SPECIAL OPPORTUNITY to join Disney because of your Magic touch.\n",
      "DOUBLE all Happiness earned\n",
      "Meet Normal Requirements\n",
      "May save or sell.\n",
      "  type:occupation, destination:Disney, expenses paid:False, double happiness:True\n",
      "OPPORTUNITY KNOCKS\n",
      "Advance to the nearest OPPORTUNITY square and roll again\n",
      "May save or sell.\n",
      "  type:opportunity, destination:Opportunity, expenses paid:False, double happiness:False\n",
      "SPECIAL OPPORTUNITY to gain EXPERIENCE!\n",
      "Collect one randomly selected EXPERIENCE card from each player.\n",
      "May save or sell.\n",
      "  type:action, destination:None, expenses paid:False, double happiness:False\n",
      "OPPORTUNITY to join Lister & Bacon\n",
      "Meet Normal Requirements\n",
      "May save or sell.\n",
      "  type:occupation, destination:ListerAndBacon, expenses paid:False, double happiness:False\n",
      "OPPORTUNITY KNOCKS\n",
      "Advance to the nearest OPPORTUNITY square and roll again\n",
      "May save or sell.\n",
      "  type:opportunity, destination:Opportunity, expenses paid:False, double happiness:False\n",
      "OPPORTUNITY KNOCKS\n",
      "Advance to the nearest OPPORTUNITY square and roll again\n",
      "May save or sell.\n",
      "  type:opportunity, destination:Opportunity, expenses paid:False, double happiness:False\n",
      "OPPORTUNITY to join Facebook\n",
      "Meet Normal Requirements\n",
      "May save or sell.\n",
      "  type:occupation, destination:Facebook, expenses paid:False, double happiness:False\n",
      "SPECIAL OPPORTUNITY to join SpaceX because of your technical brilliance.\n",
      "All expenses paid and no prior experience required.\n",
      "May save or sell.\n",
      "  type:occupation, destination:SpaceX, expenses paid:True, double happiness:False\n",
      "SPECIAL OPPORTUNITY to buy needed padding! Advance to EXPERIENCE square and buy at least 1 and up to 3 EXPERIENCE cards.\n",
      "May save or sell.\n",
      "  type:border_square, destination:BuyExperience, expenses paid:False, double happiness:False\n",
      "OPPORTUNITY to go on Spring Break!\n",
      "May save or sell.\n",
      "  type:border_square, destination:SpringBreak, expenses paid:False, double happiness:False\n",
      "Get out of Unemployment free\n",
      "Play this card to immediately leave Unemployment.\n",
      "May save or sell.\n",
      "  type:action, destination:None, expenses paid:False, double happiness:False\n",
      "SPECIAL OPPORTUNITY to Get an Extra Turn\n",
      "Play at the start of your turn\n",
      "May save or sell.\n",
      "  type:action, destination:None, expenses paid:False, double happiness:False\n",
      "OPPORTUNITY to go on Spring Break!\n",
      "May save or sell.\n",
      "  type:border_square, destination:SpringBreak, expenses paid:False, double happiness:False\n",
      "SPECIAL OPPORTUNITY to collect needed cash!\n",
      "Advance to PAYDAY and collect DOUBLE your annual salary.\n",
      "May save or sell.\n",
      "  type:border_square, destination:Payday, expenses paid:False, double happiness:False\n",
      "Get out of Unemployment free\n",
      "Play this card to immediately leave Unemployment.\n",
      "May save or sell.\n",
      "  type:action, destination:None, expenses paid:False, double happiness:False\n",
      "SPECIAL OPPORTUNITY to join Facebook  because of your problem solving skills.\n",
      "All expenses paid and no prior experience required.\n",
      "May save or sell.\n",
      "  type:occupation, destination:Facebook, expenses paid:True, double happiness:False\n",
      "OPPORTUNITY to join FMC\n",
      "Meet Normal Requirements\n",
      "May save or sell.\n",
      "  type:occupation, destination:FMC, expenses paid:False, double happiness:False\n",
      "OPPORTUNITY to join FMC\n",
      "Meet Normal Requirements\n",
      "May save or sell.\n",
      "  type:occupation, destination:FMC, expenses paid:False, double happiness:False\n",
      "Get out of Unemployment free\n",
      "Play this card to immediately leave Unemployment.\n",
      "May save or sell.\n",
      "  type:action, destination:None, expenses paid:False, double happiness:False\n",
      "OPPORTUNITY to join SpaceX\n",
      "Meet Normal Requirements\n",
      "May save or sell.\n",
      "  type:occupation, destination:SpaceX, expenses paid:False, double happiness:False\n",
      "OPPORTUNITY to enter the University of Florida\n",
      "Meet Normal Requirements\n",
      "May save or sell.\n",
      "  type:occupation, destination:UF, expenses paid:False, double happiness:False\n",
      "TRAVEL OPPORTUNITY Advance to the nearest Amtrak Station and roll again.\n",
      "May save or sell.\n",
      "  type:travel, destination:Amtrak, expenses paid:False, double happiness:False\n",
      "SPECIAL OPPORTUNITY to collect needed cash!\n",
      "Advance to PAYDAY and collect DOUBLE your annual salary.\n",
      "May save or sell.\n",
      "  type:border_square, destination:Payday, expenses paid:False, double happiness:False\n",
      "OPPORTUNITY to join Amazon\n",
      "Meet Normal Requirements\n",
      "May save or sell.\n",
      "  type:occupation, destination:Amazon, expenses paid:False, double happiness:False\n",
      "SPECIAL OPPORTUNITY to join Google because of your technical brilliance. \n",
      "All expenses paid and no prior experience required.\n",
      "May save or sell.\n",
      "  type:occupation, destination:Google, expenses paid:True, double happiness:False\n",
      "TRAVEL OPPORTUNITY Advance to the nearest Amtrak Station and roll again.\n",
      "May save or sell.\n",
      "  type:travel, destination:Amtrak, expenses paid:False, double happiness:False\n",
      "OPPORTUNITY to buy Insurance\n",
      "Advance to the Insurance Store and pay $5,000 premium\n",
      "May save or sell.\n",
      "  type:border_square, destination:BuyInsurance, expenses paid:False, double happiness:False\n"
     ]
    }
   ],
   "source": [
    "for i in range(0, card_deck.size):\n",
    "    card = card_deck.draw()\n",
    "    print(f'{card.text}\\n  type:{card.opportunity_type}, destination:{card.destination}, expenses paid:{card.expenses_paid}, double happiness:{card.double_happiness}')"
   ]
  },
  {
   "cell_type": "code",
   "execution_count": 2,
   "metadata": {},
   "outputs": [],
   "source": [
    "from careers.game import GameRunner"
   ]
  },
  {
   "cell_type": "code",
   "execution_count": 13,
   "metadata": {},
   "outputs": [
    {
     "name": "stdout",
     "output_type": "stream",
     "text": [
      "20220908_1804  admin: create Hi-Tech ZenAlien2013 points 100\n",
      "\n",
      "execute self.create(\"Hi-Tech\",\"ZenAlien2013\",\"points\",100)\n",
      "20220908_1804  Created game 20220908-180439-695836-10810\n",
      "\n",
      "20220908_1804    admin results: 0 Created game 20220908-180439-695836-10810\n",
      "Border square#: 0  \"Payday\"\n",
      "\n",
      "20220908_1804  admin: add player Don DWB 40 10 50\n",
      "\n",
      "execute self.add(\"player\",\"Don\",\"DWB\",40,10,50)\n",
      "20220908_1804  Player \"Don\" \"DWB number: 0\" added\n",
      "\n",
      "20220908_1804    admin results: 0 Player \"Don\" \"DWB number: 0\" added\n",
      "Border square#: 0  \"Payday\"\n",
      "\n",
      "20220908_1804  admin: add player Brian BDB 20 40 40\n",
      "\n",
      "execute self.add(\"player\",\"Brian\",\"BDB\",20,40,40)\n",
      "20220908_1804  Player \"Brian\" \"BDB number: 1\" added\n",
      "\n",
      "20220908_1804    admin results: 0 Player \"Brian\" \"BDB number: 1\" added\n",
      "Border square#: 0  \"Payday\"\n",
      "\n",
      "20220908_1804  admin: start\n",
      "\n",
      "execute self.start()\n",
      "20220908_1804  Starting game 20220908-180439-695836-10810\n",
      "\n",
      "20220908_1804    admin results: 0 Starting game 20220908-180439-695836-10810\n",
      "Border square#: 0  \"Payday\"\n",
      "\n",
      "player 0 DWB (1): end\n",
      "20220908_1804  DWB: end\n",
      "\n",
      "execute self.end()\n",
      "20220908_1804  Ending game: 20220908-180439-695836-10810\n",
      "\n",
      "20220908_1804    DWB results: 2 Game is complete\n",
      "Border square#: 0  \"Payday\"\n",
      "\n",
      "Game is complete\n",
      "\n",
      "20220908_1804  Ending game: 20220908-180439-695836-10810\n",
      "\n"
     ]
    }
   ],
   "source": [
    "    total_points = 100\n",
    "    edition = 'Hi-Tech'\n",
    "    game_type = 'points'            # or 'timed'\n",
    "    master_id = 'ZenAlien2013'      # uniquely identifies 'me' as the game creator\n",
    "    game_runner = GameRunner(edition, master_id, game_type, total_points)  # creates a CareersGameEngine\n",
    "    game_runner.execute_command(f'create {edition} {master_id} {game_type} {total_points}', None)     # creates a CareersGame for points\n",
    "    #\n",
    "    # add 2 players\n",
    "    #\n",
    "    game_runner.execute_command(\"add player Don DWB 40 10 50\", None)\n",
    "    game_runner.execute_command(\"add player Brian BDB 20 40 40\", None)\n",
    "    game_runner.execute_command(\"start\", None)\n",
    "    \n",
    "    game_runner.run_game()"
   ]
  },
  {
   "cell_type": "code",
   "execution_count": null,
   "metadata": {},
   "outputs": [],
   "source": []
  },
  {
   "cell_type": "code",
   "execution_count": 3,
   "metadata": {},
   "outputs": [
    {
     "data": {
      "text/plain": [
       "{'game_id': '20220908-181041-344394-83405',\n",
       " 'gameState': {'game_type': 'points',\n",
       "  'number_of_players': 2,\n",
       "  'current_player_number': 0,\n",
       "  'turns': 0,\n",
       "  'turn_number': 1,\n",
       "  'total_points': 100,\n",
       "  'seconds_remaining': 0,\n",
       "  'game_complete': False,\n",
       "  'players': [{'name': 'Don',\n",
       "    'number': 0,\n",
       "    'initials': 'DWB',\n",
       "    'successFormula': {'cash': 50, 'fame': 40, 'happiness': 10},\n",
       "    'score': {'cash': 2000, 'fame': 0, 'happiness': 0, 'is_insured': False},\n",
       "    'loans': {},\n",
       "    'board_location': {'border_square_number': 9,\n",
       "     'border_square_name': 'Hospital',\n",
       "     'occupation_square_number': 0,\n",
       "     'occupation_name': None}},\n",
       "   {'name': 'Brian',\n",
       "    'number': 1,\n",
       "    'initials': 'BDB',\n",
       "    'successFormula': {'cash': 40, 'fame': 20, 'happiness': 40},\n",
       "    'score': {'cash': 2000, 'fame': 0, 'happiness': 0, 'is_insured': False},\n",
       "    'loans': {},\n",
       "    'board_location': {'border_square_number': 10,\n",
       "     'border_square_name': 'Opportunity',\n",
       "     'occupation_square_number': 0,\n",
       "     'occupation_name': None}}]}}"
      ]
     },
     "execution_count": 3,
     "metadata": {},
     "output_type": "execute_result"
    }
   ],
   "source": [
    "filename = \"/data/log/ZenAlien2013_20220908-181041-344394-83405_game.json\"\n",
    "fp = open(filename, \"r\")\n",
    "jtxt = fp.read()\n",
    "saved_game = json.loads(jtxt)\n",
    "saved_game"
   ]
  },
  {
   "cell_type": "code",
   "execution_count": 4,
   "metadata": {},
   "outputs": [
    {
     "data": {
      "text/plain": [
       "{'name': 'Brian',\n",
       " 'number': 1,\n",
       " 'initials': 'BDB',\n",
       " 'successFormula': {'cash': 40, 'fame': 20, 'happiness': 40},\n",
       " 'score': {'cash': 2000, 'fame': 0, 'happiness': 0, 'is_insured': False},\n",
       " 'loans': {},\n",
       " 'board_location': {'border_square_number': 10,\n",
       "  'border_square_name': 'Opportunity',\n",
       "  'occupation_square_number': 0,\n",
       "  'occupation_name': None}}"
      ]
     },
     "execution_count": 4,
     "metadata": {},
     "output_type": "execute_result"
    }
   ],
   "source": [
    "saved_game['gameState']['players'][1]"
   ]
  },
  {
   "cell_type": "code",
   "execution_count": null,
   "metadata": {},
   "outputs": [],
   "source": []
  },
  {
   "cell_type": "code",
   "execution_count": 5,
   "metadata": {},
   "outputs": [],
   "source": [
    "from careers.game import BoardLocation, CommandResult\n",
    "import json"
   ]
  },
  {
   "cell_type": "code",
   "execution_count": 6,
   "metadata": {},
   "outputs": [],
   "source": [
    "bl = BoardLocation( border_square_number=4, border_square_name=\"FMC\", occupation_name=\"FMC\", occupation_square_number=3 )"
   ]
  },
  {
   "cell_type": "code",
   "execution_count": 7,
   "metadata": {},
   "outputs": [
    {
     "name": "stdout",
     "output_type": "stream",
     "text": [
      "{\n",
      "  \"border_square_number\": 4,\n",
      "  \"border_square_name\": \"FMC\",\n",
      "  \"occupation_square_number\": 3,\n",
      "  \"occupation_name\": \"FMC\"\n",
      "}\n"
     ]
    }
   ],
   "source": [
    "jstr = bl.to_JSON()\n",
    "print(jstr)"
   ]
  },
  {
   "cell_type": "code",
   "execution_count": 8,
   "metadata": {},
   "outputs": [],
   "source": [
    "cr = CommandResult(1, \"message\", True, board_location=bl)"
   ]
  },
  {
   "cell_type": "code",
   "execution_count": 9,
   "metadata": {},
   "outputs": [
    {
     "name": "stdout",
     "output_type": "stream",
     "text": [
      "{\n",
      "  \"return_code\" : \"1\",\n",
      "  \"done_flag\" : \"True\",\n",
      "  \"message\" : \"message\",\n",
      "\"board_location\" : {\n",
      "  \"border_square_number\": 4,\n",
      "  \"border_square_name\": \"FMC\",\n",
      "  \"occupation_square_number\": 3,\n",
      "  \"occupation_name\": \"FMC\"\n",
      "}\n",
      "}\n"
     ]
    }
   ],
   "source": [
    "cr_json = cr.to_JSON()\n",
    "print(cr_json)"
   ]
  },
  {
   "cell_type": "code",
   "execution_count": 10,
   "metadata": {},
   "outputs": [
    {
     "data": {
      "text/plain": [
       "{'return_code': '1',\n",
       " 'done_flag': 'True',\n",
       " 'message': 'message',\n",
       " 'board_location': {'border_square_number': 4,\n",
       "  'border_square_name': 'FMC',\n",
       "  'occupation_square_number': 3,\n",
       "  'occupation_name': 'FMC'}}"
      ]
     },
     "execution_count": 10,
     "metadata": {},
     "output_type": "execute_result"
    }
   ],
   "source": [
    "json.loads(cr_json)"
   ]
  },
  {
   "cell_type": "code",
   "execution_count": null,
   "metadata": {},
   "outputs": [],
   "source": []
  }
 ],
 "metadata": {
  "kernelspec": {
   "display_name": "Python 3 (ipykernel)",
   "language": "python",
   "name": "python3"
  },
  "language_info": {
   "codemirror_mode": {
    "name": "ipython",
    "version": 3
   },
   "file_extension": ".py",
   "mimetype": "text/x-python",
   "name": "python",
   "nbconvert_exporter": "python",
   "pygments_lexer": "ipython3",
   "version": "3.10.6"
  },
  "vscode": {
   "interpreter": {
    "hash": "8234aed06a17e4a31389dc798c9ed3771249689737c9b0fc56bcb71a4496afce"
   }
  }
 },
 "nbformat": 4,
 "nbformat_minor": 4
}
