{
 "cells": [
  {
   "cell_type": "code",
   "execution_count": 1,
   "metadata": {},
   "outputs": [],
   "source": [
    "from music21 import stream, interval, corpus, instrument, pitch\n",
    "from music21 import converter, note, chord, environment, duration, key\n",
    "import notebook\n",
    "import argparse, string, pathlib\n",
    "import pandas as pd\n",
    "from sklearn import preprocessing\n",
    "import numpy as np\n",
    "import json, re, random, sys"
   ]
  },
  {
   "cell_type": "code",
   "execution_count": 3,
   "metadata": {},
   "outputs": [
    {
     "data": {
      "text/plain": [
       "['C:\\\\Compile\\\\careers',\n",
       " 'C:\\\\Compile\\\\dwbzen\\\\dwbzen',\n",
       " 'C:\\\\Compile\\\\careers\\\\careers',\n",
       " 'C:\\\\Users\\\\DWBZe\\\\AppData\\\\Local\\\\Programs\\\\Python\\\\Python39\\\\python39.zip',\n",
       " 'C:\\\\Users\\\\DWBZe\\\\AppData\\\\Local\\\\Programs\\\\Python\\\\Python39\\\\DLLs',\n",
       " 'C:\\\\Users\\\\DWBZe\\\\AppData\\\\Local\\\\Programs\\\\Python\\\\Python39\\\\lib',\n",
       " 'C:\\\\Users\\\\DWBZe\\\\AppData\\\\Local\\\\Programs\\\\Python\\\\Python39',\n",
       " '',\n",
       " 'C:\\\\Users\\\\DWBZe\\\\AppData\\\\Local\\\\Programs\\\\Python\\\\Python39\\\\lib\\\\site-packages',\n",
       " 'C:\\\\Users\\\\DWBZe\\\\AppData\\\\Local\\\\Programs\\\\Python\\\\Python39\\\\lib\\\\site-packages\\\\win32',\n",
       " 'C:\\\\Users\\\\DWBZe\\\\AppData\\\\Local\\\\Programs\\\\Python\\\\Python39\\\\lib\\\\site-packages\\\\win32\\\\lib',\n",
       " 'C:\\\\Users\\\\DWBZe\\\\AppData\\\\Local\\\\Programs\\\\Python\\\\Python39\\\\lib\\\\site-packages\\\\Pythonwin',\n",
       " 'C:\\\\Users\\\\DWBZe\\\\AppData\\\\Local\\\\Programs\\\\Python\\\\Python39\\\\lib\\\\site-packages\\\\IPython\\\\extensions',\n",
       " 'C:\\\\Users\\\\DWBZe\\\\.ipython']"
      ]
     },
     "execution_count": 3,
     "metadata": {},
     "output_type": "execute_result"
    }
   ],
   "source": [
    "#sys.path.append('C:\\\\Compile\\\\careers\\\\careers')\n",
    "sys.path"
   ]
  },
  {
   "cell_type": "code",
   "execution_count": 2,
   "metadata": {},
   "outputs": [
    {
     "data": {
      "text/plain": [
       "['Environment',\n",
       " '__all__',\n",
       " '__author__',\n",
       " '__builtins__',\n",
       " '__cached__',\n",
       " '__doc__',\n",
       " '__file__',\n",
       " '__loader__',\n",
       " '__name__',\n",
       " '__package__',\n",
       " '__path__',\n",
       " '__spec__',\n",
       " '__version__',\n",
       " 'absolute_import',\n",
       " 'environment',\n",
       " 'game',\n",
       " 'server']"
      ]
     },
     "execution_count": 2,
     "metadata": {},
     "output_type": "execute_result"
    }
   ],
   "source": [
    "import careers\n",
    "dir(careers)"
   ]
  },
  {
   "cell_type": "code",
   "execution_count": 5,
   "metadata": {},
   "outputs": [
    {
     "data": {
      "text/plain": [
       "{'editions': ['Hi-Tech', 'UK'],\n",
       " 'Hi-Tech': {'version': '1.1',\n",
       "  'full_name': 'Hi Tech Edition',\n",
       "  'Help': 'Rule Book v2 booklet.pdf',\n",
       "  'Game Parameters': 'gameParameters_Hi-Tech.json',\n",
       "  'Opportunity Cards': 'opportunityCards_Hi-Tech.json',\n",
       "  'Experience Cards': 'experienceCards_Hi-Tech.json',\n",
       "  'Occupations': 'occupations_Hi-Tech.json',\n",
       "  'Players': 'players_Hi-Tech.json',\n",
       "  'Layout': 'gameLayout_Hi-Tech.json',\n",
       "  'Rules': 'rules.json',\n",
       "  'configuration': {'starting_salary': 2000, 'initial_cash': 2000}},\n",
       " 'UK': {'version': '1.0',\n",
       "  'full_name': 'UK Edition: Destination London',\n",
       "  'Help': 'Rule Book Destination London.pdf',\n",
       "  'Game Parameters': 'gameParameters_UK.json',\n",
       "  'Opportunity Cards': 'opportunityCards_UK.json',\n",
       "  'Experience Cards': 'experienceCards_UK.json',\n",
       "  'Occupations': 'occupations_UK.json',\n",
       "  'Players': 'players_UK.json',\n",
       "  'Layout': 'gameLayout_UK.json',\n",
       "  'Rules': 'rules_UK.json',\n",
       "  'configuration': {'starting_salary': 2000, 'initial_cash': 2500}}}"
      ]
     },
     "execution_count": 5,
     "metadata": {},
     "output_type": "execute_result"
    }
   ],
   "source": [
    "filename = \"/Compile/careers/resources/editions.json\"\n",
    "fp = open(filename, \"r\")\n",
    "jtxt = fp.read()\n",
    "editions = json.loads(jtxt)\n",
    "editions"
   ]
  },
  {
   "cell_type": "code",
   "execution_count": 6,
   "metadata": {},
   "outputs": [
    {
     "name": "stdout",
     "output_type": "stream",
     "text": [
      "dict_keys(['editions', 'Hi-Tech', 'UK'])\n",
      "{'version': '1.1', 'full_name': 'Hi Tech Edition', 'Help': 'Rule Book v2 booklet.pdf', 'Game Parameters': 'gameParameters_Hi-Tech.json', 'Opportunity Cards': 'opportunityCards_Hi-Tech.json', 'Experience Cards': 'experienceCards_Hi-Tech.json', 'Occupations': 'occupations_Hi-Tech.json', 'Players': 'players_Hi-Tech.json', 'Layout': 'gameLayout_Hi-Tech.json', 'Rules': 'rules.json', 'configuration': {'starting_salary': 2000, 'initial_cash': 2000}}\n",
      "\n",
      "editions: ['Hi-Tech', 'UK']\n"
     ]
    }
   ],
   "source": [
    "print(editions.keys())\n",
    "print(editions['Hi-Tech'])\n",
    "print(f\"\\neditions: {editions['editions']}\")"
   ]
  },
  {
   "cell_type": "code",
   "execution_count": 7,
   "metadata": {},
   "outputs": [
    {
     "data": {
      "text/plain": [
       "True"
      ]
     },
     "execution_count": 7,
     "metadata": {},
     "output_type": "execute_result"
    }
   ],
   "source": [
    "'Hi-Tech' in editions['editions']"
   ]
  },
  {
   "cell_type": "code",
   "execution_count": 13,
   "metadata": {},
   "outputs": [
    {
     "data": {
      "text/plain": [
       "['FMC',\n",
       " 'UF',\n",
       " 'Amazon',\n",
       " 'ESPN',\n",
       " 'Disney',\n",
       " 'ListerAndBacon',\n",
       " 'Facebook',\n",
       " 'Google',\n",
       " 'Pfizer',\n",
       " 'SpaceX']"
      ]
     },
     "execution_count": 13,
     "metadata": {},
     "output_type": "execute_result"
    }
   ],
   "source": [
    "fp = open(\"/Compile/careers/resources/occupations_Hi-Tech.json\", \"r\")\n",
    "occupations = json.loads(fp.read())\n",
    "occupations['occupations']"
   ]
  },
  {
   "cell_type": "code",
   "execution_count": 10,
   "metadata": {},
   "outputs": [
    {
     "data": {
      "text/plain": [
       "{'starting_salary': 2000,\n",
       " 'starting_cash': 2000,\n",
       " 'currency': 'Pounds',\n",
       " 'currency_symbol': '£',\n",
       " 'date_format': 'yyyy-dd-mm',\n",
       " 'starting_experience_cards': 0,\n",
       " 'starting_opportunity_cards': 0,\n",
       " 'default_game_points': 100,\n",
       " 'timed_game': 0,\n",
       " 'default_game_minutes': 60,\n",
       " 'allow_negative_experience': 1}"
      ]
     },
     "execution_count": 10,
     "metadata": {},
     "output_type": "execute_result"
    }
   ],
   "source": [
    "fp = open(\"/Compile/careers/resources/gameParameters_UK.json\", \"r\")\n",
    "jtxt = fp.read()\n",
    "game_parameters = json.loads(jtxt)\n",
    "game_parameters"
   ]
  },
  {
   "cell_type": "code",
   "execution_count": 19,
   "metadata": {},
   "outputs": [
    {
     "name": "stdout",
     "output_type": "stream",
     "text": [
      "FMC loaded\n",
      "UF loaded\n",
      "Amazon loaded\n",
      "ESPN loaded\n",
      "Disney loaded\n",
      "ListerAndBacon loaded\n",
      "Facebook loaded\n",
      "Google loaded\n",
      "Pfizer loaded\n",
      "SpaceX loaded\n"
     ]
    }
   ],
   "source": [
    "# occupation in its own JSON file\n",
    "# \n",
    "all_occupations = dict()\n",
    "for ocname in occupations['occupations']:\n",
    "    fp = open(\"/Compile/careers/resources/\" + ocname + \"_Hi-Tech.json\", \"r\")\n",
    "    jtxt = fp.read()\n",
    "    occupation = json.loads(jtxt)\n",
    "    all_occupations[ocname] = occupation\n",
    "    print(occupation['name'] + \" loaded\")"
   ]
  },
  {
   "cell_type": "code",
   "execution_count": 20,
   "metadata": {},
   "outputs": [
    {
     "data": {
      "text/plain": [
       "{'occupationClass': 'occupation',\n",
       " 'fullName': 'FMC',\n",
       " 'background_image': 'occupation_entrance.png',\n",
       " 'image': 'FMC logo.jpg',\n",
       " 'entryFee': 1000,\n",
       " 'text': 'Must have:<br/>**$1000 recruiting fee; or Agronomy degree; or FMC experience**',\n",
       " 'degreeRequirements': {'degreeName': 'Agronomy', 'numberRequired': 1}}"
      ]
     },
     "execution_count": 20,
     "metadata": {},
     "output_type": "execute_result"
    }
   ],
   "source": [
    "all_occupations['FMC']['configuration']"
   ]
  },
  {
   "cell_type": "code",
   "execution_count": 12,
   "metadata": {},
   "outputs": [
    {
     "data": {
      "text/plain": [
       "dict"
      ]
     },
     "execution_count": 12,
     "metadata": {},
     "output_type": "execute_result"
    }
   ],
   "source": [
    "type(occupation['occupationSquares'][0])"
   ]
  },
  {
   "cell_type": "code",
   "execution_count": 11,
   "metadata": {},
   "outputs": [
    {
     "data": {
      "text/plain": [
       "[{'number': 0,\n",
       "  'background_image': 'occupation_square.png',\n",
       "  'text': 'You need serious counseling',\n",
       "  'image': 'frown_emoji.png',\n",
       "  'stars': 0,\n",
       "  'hearts': 0,\n",
       "  'bonus': 0,\n",
       "  'experience': 0,\n",
       "  'opportunities': 0,\n",
       "  'action_text': 'Lose next turn',\n",
       "  'specialProcessing': 'loseNextTurn'},\n",
       " {'number': 1,\n",
       "  'background_image': 'occupation_square.png',\n",
       "  'text': 'Attend Group Love concert',\n",
       "  'image': '',\n",
       "  'stars': 0,\n",
       "  'hearts': 2,\n",
       "  'bonus': 0,\n",
       "  'experience': 0,\n",
       "  'opportunities': 0,\n",
       "  'action_text': '',\n",
       "  'specialProcessing': {}}]"
      ]
     },
     "execution_count": 11,
     "metadata": {},
     "output_type": "execute_result"
    }
   ],
   "source": [
    "occupation['occupationSquares'][0:2]"
   ]
  },
  {
   "cell_type": "code",
   "execution_count": 12,
   "metadata": {},
   "outputs": [
    {
     "data": {
      "text/plain": [
       "{'type': 'shortcut', 'next_square': 9}"
      ]
     },
     "execution_count": 12,
     "metadata": {},
     "output_type": "execute_result"
    }
   ],
   "source": [
    "occupation['occupationSquares'][2]['specialProcessing']"
   ]
  },
  {
   "cell_type": "code",
   "execution_count": 13,
   "metadata": {},
   "outputs": [
    {
     "data": {
      "text/plain": [
       "{'Help': 'Board layout for the Hi-Tech version.',\n",
       " 'layout': [{'number': 0,\n",
       "   'name': 'Payday',\n",
       "   'type': 'corner_square',\n",
       "   'background_image': 'corner_square.png',\n",
       "   'image': 'startHereAndArrow.jpg',\n",
       "   'text': 'Collect Salary<br/>as you pass<p/><h1>PAYDAY</h1><h2>Collect DOUBLE if you land here</h2>',\n",
       "   'specialProcessing': {'type': 'payday', 'amount': '$Salary'}},\n",
       "  {'number': 1,\n",
       "   'name': 'Opportunity',\n",
       "   'type': 'opportunity_square',\n",
       "   'background_image': 'opportunity.png',\n",
       "   'text': '**OPPORTUNITY KNOCKS**',\n",
       "   'specialProcessing': {'type': 'opportunity'}},\n",
       "  {'number': 2,\n",
       "   'name': 'IncomeTax',\n",
       "   'type': 'danger_square',\n",
       "   'background_image': 'danger_border_square.png',\n",
       "   'text': '**INCOME TAX DUE**',\n",
       "   'specialProcessing': {'type': 'incomeTax', 'amount': '$Salary'}},\n",
       "  {'number': 3,\n",
       "   'name': 'Amtrak',\n",
       "   'type': 'travel_square',\n",
       "   'background_image': 'amtrak.png',\n",
       "   'text': '',\n",
       "   'specialProcessing': {'type': 'railTravel', 'destinationSquare': 13}},\n",
       "  {'number': 4,\n",
       "   'name': 'FMC',\n",
       "   'type': 'occupation_entrance_square',\n",
       "   'background_image': 'occupation_entrance_square.png',\n",
       "   'image': 'fmc-logo small.jpg',\n",
       "   'text': '',\n",
       "   'specialProcessing': {'type': 'enterOccupation',\n",
       "    'destinationOccupation': 'FMC'}},\n",
       "  {'number': 5,\n",
       "   'name': 'Opportunity',\n",
       "   'type': 'opportunity_square',\n",
       "   'background_image': 'opportunity.png',\n",
       "   'text': '**OPPORTUNITY KNOCKS**',\n",
       "   'specialProcessing': {'type': 'opportunity'}},\n",
       "  {'number': 6,\n",
       "   'name': 'TechConvention',\n",
       "   'type': 'action_square',\n",
       "   'background_image': 'light blue action square.png'},\n",
       "  {'number': 7,\n",
       "   'name': 'UF',\n",
       "   'background_image': 'occupation_entrance_square.png',\n",
       "   'image': 'UF logo.jpg',\n",
       "   'type': 'occupation_entrance_square',\n",
       "   'text': '',\n",
       "   'specialProcessing': {'type': 'enterCollege',\n",
       "    'destinationOccupation': 'UF'}},\n",
       "  {'number': 8,\n",
       "   'name': 'Opportunity',\n",
       "   'type': 'opportunity_square',\n",
       "   'background_image': 'opportunity.png',\n",
       "   'text': '**OPPORTUNITY KNOCKS**',\n",
       "   'specialProcessing': {'type': 'opportunity'}},\n",
       "  {'number': 9,\n",
       "   'name': 'Hospital',\n",
       "   'type': 'corner_square',\n",
       "   'background_image': 'corner_square.png'},\n",
       "  {'number': 10,\n",
       "   'name': 'Opportunity',\n",
       "   'type': 'opportunity_square',\n",
       "   'background_image': 'opportunity.png',\n",
       "   'text': '**OPPORTUNITY KNOCKS**',\n",
       "   'specialProcessing': {'type': 'opportunity'}},\n",
       "  {'number': 11,\n",
       "   'name': 'DonateNow',\n",
       "   'type': 'danger_square',\n",
       "   'background_image': 'danger_border_square.png',\n",
       "   'text': '**DONATE NOW**',\n",
       "   'specialProcessing': {'type': 'singleDieRoll', 'amount': 1000}},\n",
       "  {'number': 12,\n",
       "   'name': 'Amtrak',\n",
       "   'type': 'travel_square',\n",
       "   'background_image': 'amtrak.png',\n",
       "   'text': '',\n",
       "   'specialProcessing': {'type': 'railTravel', 'destinationSquare': 23}},\n",
       "  {'number': 13,\n",
       "   'name': 'Amazon',\n",
       "   'type': 'occupation_entrance_square',\n",
       "   'background_image': 'occupation_entrance_square.png',\n",
       "   'image': 'amazon logo.jpg',\n",
       "   'text': '',\n",
       "   'specialProcessing': {'type': 'enterOccupation',\n",
       "    'destinationOccupation': 'Amazon'}},\n",
       "  {'number': 14,\n",
       "   'name': 'Opportunity',\n",
       "   'type': 'opportunity_square',\n",
       "   'background_image': 'opportunity.png',\n",
       "   'text': '**OPPORTUNITY KNOCKS**',\n",
       "   'specialProcessing': {'type': 'opportunity'}},\n",
       "  {'number': 15,\n",
       "   'name': 'ESPN',\n",
       "   'type': 'occupation_entrance_square',\n",
       "   'background_image': 'occupation_entrance_square.png',\n",
       "   'image': 'ESPN logo.jpg',\n",
       "   'text': '',\n",
       "   'specialProcessing': {'type': 'enterOccupation',\n",
       "    'destinationOccupation': 'ESPN'}},\n",
       "  {'number': 16,\n",
       "   'name': 'Opportunity',\n",
       "   'type': 'opportunity_square',\n",
       "   'background_image': 'opportunity.png',\n",
       "   'text': '**OPPORTUNITY KNOCKS**',\n",
       "   'specialProcessing': {'type': 'opportunity'}},\n",
       "  {'number': 17,\n",
       "   'name': 'CarPayment',\n",
       "   'background_image': 'danger_border_square.png',\n",
       "   'text': '**CAR PAYMENT DUE**'},\n",
       "  {'number': 18, 'name': 'Disney', 'type': 'occupation_entrance_square'},\n",
       "  {'number': 19,\n",
       "   'name': 'Opportunity',\n",
       "   'type': 'opportunity_square',\n",
       "   'background_image': 'opportunity.png',\n",
       "   'text': '**OPPORTUNITY KNOCKS**',\n",
       "   'specialProcessing': {'type': 'opportunity'}},\n",
       "  {'number': 20,\n",
       "   'name': 'BuyExperience',\n",
       "   'type': 'action_square',\n",
       "   'background_image': 'light blue action square.png'},\n",
       "  {'number': 21,\n",
       "   'name': 'Unemployment',\n",
       "   'type': 'corner_square',\n",
       "   'background_image': 'corner_square.png'},\n",
       "  {'number': 22,\n",
       "   'name': 'Amtrak',\n",
       "   'type': 'travel_square',\n",
       "   'background_image': 'amtrak.png',\n",
       "   'text': '',\n",
       "   'specialProcessing': {'type': 'railTravel', 'destinationSquare': 36}},\n",
       "  {'number': 23,\n",
       "   'name': 'PayRent',\n",
       "   'background_image': 'danger_border_square.png',\n",
       "   'text': '**PAY RENT HERE**'},\n",
       "  {'number': 24,\n",
       "   'name': 'ListerAndBacon',\n",
       "   'type': 'occupation_entrance_square',\n",
       "   'background_image': 'occupation_entrance_square.png',\n",
       "   'image': 'Lister and Bacon.jpg',\n",
       "   'text': '',\n",
       "   'specialProcessing': {'type': 'enterOccupation',\n",
       "    'destinationOccupation': 'ListerAndBacon'}},\n",
       "  {'number': 25,\n",
       "   'name': 'Opportunity',\n",
       "   'type': 'opportunity_square',\n",
       "   'background_image': 'opportunity.png',\n",
       "   'text': '**OPPORTUNITY KNOCKS**',\n",
       "   'specialProcessing': {'type': 'opportunity'}},\n",
       "  {'number': 26,\n",
       "   'name': 'ShoppingSpree',\n",
       "   'type': 'IncomeTax',\n",
       "   'background_image': 'danger_border_square.png',\n",
       "   'text': '**ONLINE SHOPPING SPREE**'},\n",
       "  {'number': 27,\n",
       "   'name': 'Facebook',\n",
       "   'type': 'occupation_entrance_square',\n",
       "   'background_image': 'occupation_entrance_square.png',\n",
       "   'image': 'facebook logo.jpg',\n",
       "   'text': '',\n",
       "   'specialProcessing': {'type': 'enterOccupation',\n",
       "    'destinationOccupation': 'Facebook'}},\n",
       "  {'number': 28,\n",
       "   'name': 'Opportunity',\n",
       "   'type': 'opportunity_square',\n",
       "   'background_image': 'opportunity.png',\n",
       "   'text': '**OPPORTUNITY KNOCKS**',\n",
       "   'specialProcessing': {'type': 'opportunity'}},\n",
       "  {'number': 29,\n",
       "   'name': 'BuyInsurance',\n",
       "   'type': 'action_square',\n",
       "   'background_image': 'light blue action square.png'},\n",
       "  {'number': 30,\n",
       "   'name': 'SpringBreak',\n",
       "   'type': 'corner_square',\n",
       "   'background_image': 'corner_square.png'},\n",
       "  {'number': 31,\n",
       "   'name': 'Opportunity',\n",
       "   'type': 'opportunity_square',\n",
       "   'background_image': 'opportunity.png',\n",
       "   'text': '**OPPORTUNITY KNOCKS**',\n",
       "   'specialProcessing': {'type': 'opportunity'}},\n",
       "  {'number': 32,\n",
       "   'name': 'GambleInVegas',\n",
       "   'type': 'action_square',\n",
       "   'background_image': 'light blue action square.png',\n",
       "   'image': 'Las Vegas.jpg'},\n",
       "  {'number': 33,\n",
       "   'name': 'Google',\n",
       "   'type': 'occupation_entrance_square',\n",
       "   'background_image': 'occupation_entrance_square.png',\n",
       "   'image': 'google logo.jpg',\n",
       "   'text': '',\n",
       "   'specialProcessing': {'type': 'enterOccupation',\n",
       "    'destinationOccupation': 'Google'}},\n",
       "  {'number': 34,\n",
       "   'name': 'Opportunity',\n",
       "   'type': 'opportunity_square',\n",
       "   'background_image': 'opportunity.png',\n",
       "   'text': '**OPPORTUNITY KNOCKS**',\n",
       "   'specialProcessing': {'type': 'opportunity'}},\n",
       "  {'number': 35,\n",
       "   'name': 'Amtrak',\n",
       "   'type': 'travel_square',\n",
       "   'background_image': 'amtrak.png',\n",
       "   'text': '',\n",
       "   'specialProcessing': {'type': 'railTravel', 'destinationSquare': 4}},\n",
       "  {'number': 36,\n",
       "   'name': 'Pfizer',\n",
       "   'type': 'occupation_entrance_square',\n",
       "   'background_image': 'occupation_entrance_square.png',\n",
       "   'image': 'pfizer logo.jpg',\n",
       "   'text': '',\n",
       "   'specialProcessing': {'type': 'enterOccupation',\n",
       "    'destinationOccupation': 'Pfizer'}},\n",
       "  {'number': 37,\n",
       "   'name': 'Opportunity',\n",
       "   'type': 'opportunity_square',\n",
       "   'background_image': 'opportunity.png',\n",
       "   'text': '**OPPORTUNITY KNOCKS**',\n",
       "   'specialProcessing': {'type': 'opportunity'}},\n",
       "  {'number': 38,\n",
       "   'name': 'DivorceCourt',\n",
       "   'background_image': 'danger_border_square.png',\n",
       "   'image': 'divorce icon.jpg',\n",
       "   'text': '**DIVORCE COURT**',\n",
       "   'specialProcessing': {'type': 'diceRoll', 'amount': '$Salary'}},\n",
       "  {'number': 39,\n",
       "   'name': 'VintageCars',\n",
       "   'type': 'action_square',\n",
       "   'background_image': 'light blue action square.png',\n",
       "   'text': '**VINTAGE CARS**'},\n",
       "  {'number': 40,\n",
       "   'name': 'SpaceX',\n",
       "   'type': 'occupation_entrance_square',\n",
       "   'background_image': 'occupation_entrance_square.png',\n",
       "   'image': 'SpaceX logo.jpg',\n",
       "   'text': '',\n",
       "   'specialProcessing': {'type': 'enterOccupation',\n",
       "    'destinationOccupation': 'SpaceX'}},\n",
       "  {'number': 41,\n",
       "   'name': 'WebPresence',\n",
       "   'type': 'action_square',\n",
       "   'background_image': 'light blue action square.png',\n",
       "   'text': '**WEB PRESENCE**'}]}"
      ]
     },
     "execution_count": 13,
     "metadata": {},
     "output_type": "execute_result"
    }
   ],
   "source": [
    "fp = open(\"/Compile/careers/resources/gameLayout_Hi-Tech.json\", \"r\")\n",
    "jtxt = fp.read()\n",
    "hitech_layout = json.loads(jtxt)\n",
    "hitech_layout"
   ]
  },
  {
   "cell_type": "code",
   "execution_count": 14,
   "metadata": {},
   "outputs": [
    {
     "data": {
      "text/plain": [
       "42"
      ]
     },
     "execution_count": 14,
     "metadata": {},
     "output_type": "execute_result"
    }
   ],
   "source": [
    "len(hitech_layout['layout'])"
   ]
  },
  {
   "cell_type": "code",
   "execution_count": 15,
   "metadata": {},
   "outputs": [
    {
     "data": {
      "text/plain": [
       "{'number': 4,\n",
       " 'name': 'FMC',\n",
       " 'type': 'occupation_entrance_square',\n",
       " 'background_image': 'occupation_entrance_square.png',\n",
       " 'image': 'fmc-logo small.jpg',\n",
       " 'text': '',\n",
       " 'specialProcessing': {'type': 'enterOccupation',\n",
       "  'destinationOccupation': 'FMC'}}"
      ]
     },
     "execution_count": 15,
     "metadata": {},
     "output_type": "execute_result"
    }
   ],
   "source": [
    "hitech_layout['layout'][4] #['specialProcessing']"
   ]
  },
  {
   "cell_type": "code",
   "execution_count": 8,
   "metadata": {},
   "outputs": [],
   "source": [
    "fp = open(\"/Compile/careers/resources/experienceCards_Hi-Tech.json\", \"r\")\n",
    "jtxt = fp.read()\n",
    "experience_cards = json.loads(jtxt)\n",
    "fp.close()"
   ]
  },
  {
   "cell_type": "markdown",
   "metadata": {},
   "source": []
  },
  {
   "cell_type": "code",
   "execution_count": 3,
   "metadata": {},
   "outputs": [],
   "source": [
    "from careers.game import ExperienceCardDeck"
   ]
  },
  {
   "cell_type": "code",
   "execution_count": 4,
   "metadata": {},
   "outputs": [],
   "source": [
    "card_deck = ExperienceCardDeck('/Compile/careers/resources', 'Hi-Tech')"
   ]
  },
  {
   "cell_type": "code",
   "execution_count": 5,
   "metadata": {},
   "outputs": [],
   "source": [
    "card = card_deck.draw()"
   ]
  },
  {
   "cell_type": "code",
   "execution_count": 6,
   "metadata": {},
   "outputs": [
    {
     "name": "stdout",
     "output_type": "stream",
     "text": [
      "6\n"
     ]
    }
   ],
   "source": [
    "print(card.spaces)"
   ]
  },
  {
   "cell_type": "code",
   "execution_count": 7,
   "metadata": {},
   "outputs": [],
   "source": [
    "card_deck.shuffle()"
   ]
  },
  {
   "cell_type": "code",
   "execution_count": 8,
   "metadata": {},
   "outputs": [
    {
     "name": "stdout",
     "output_type": "stream",
     "text": [
      "fixed 2  next_index: 2\n",
      "1-die wild 0  next_index: 3\n",
      "fixed 3  next_index: 4\n",
      "triple wild 0  next_index: 5\n",
      "1-die wild 0  next_index: 6\n",
      "2-die wild 0  next_index: 7\n",
      "fixed 6  next_index: 8\n",
      "fixed 1  next_index: 9\n",
      "fixed 2  next_index: 10\n",
      "fixed 1  next_index: 11\n",
      "fixed 3  next_index: 12\n",
      "fixed 2  next_index: 13\n",
      "fixed 1  next_index: 14\n",
      "fixed 3  next_index: 15\n",
      "2-die wild 0  next_index: 16\n",
      "fixed 3  next_index: 17\n",
      "fixed 1  next_index: 18\n",
      "triple wild 0  next_index: 19\n",
      "fixed 5  next_index: 20\n",
      "fixed -1  next_index: 21\n",
      "fixed 1  next_index: 22\n",
      "2-die wild 0  next_index: 23\n",
      "fixed 2  next_index: 24\n",
      "triple wild 0  next_index: 25\n",
      "fixed 2  next_index: 26\n",
      "fixed 4  next_index: 27\n",
      "fixed 6  next_index: 28\n",
      "fixed 4  next_index: 29\n",
      "fixed 4  next_index: 30\n",
      "fixed 5  next_index: 31\n",
      "fixed 4  next_index: 32\n",
      "fixed 7  next_index: 33\n",
      "fixed 2  next_index: 34\n",
      "fixed 5  next_index: 35\n",
      "fixed -2  next_index: 36\n",
      "fixed -2  next_index: 37\n",
      "fixed 6  next_index: 38\n",
      "fixed 6  next_index: 39\n",
      "fixed 1  next_index: 40\n",
      "2-die wild 0  next_index: 41\n",
      "fixed 5  next_index: 42\n",
      "fixed 1  next_index: 43\n",
      "fixed 3  next_index: 44\n",
      "1-die wild 0  next_index: 45\n",
      "fixed 2  next_index: 46\n",
      "fixed 1  next_index: 47\n",
      "fixed 4  next_index: 48\n",
      "fixed 4  next_index: 49\n",
      "fixed 7  next_index: 50\n",
      "1-die wild 0  next_index: 51\n",
      "fixed 3  next_index: 52\n",
      "fixed -1  next_index: 53\n",
      "triple wild 0  next_index: 54\n",
      "fixed 2  next_index: 1\n"
     ]
    }
   ],
   "source": [
    "for i in range(0, card_deck.size):\n",
    "    card = card_deck.draw()\n",
    "    print(f'{card.card_type} {card.spaces}  next_index: {card_deck._next_index}')"
   ]
  },
  {
   "cell_type": "code",
   "execution_count": 9,
   "metadata": {},
   "outputs": [],
   "source": [
    "from careers.game import OpportunityCardDeck\n",
    "card_deck = OpportunityCardDeck('/Compile/careers/resources', 'Hi-Tech')"
   ]
  },
  {
   "cell_type": "code",
   "execution_count": 10,
   "metadata": {},
   "outputs": [
    {
     "name": "stdout",
     "output_type": "stream",
     "text": [
      "OPPORTUNITY to join Disney\n",
      "Meet Normal Requirements\n",
      "May save or sell.\n",
      "  type:occupation, border square:Disney, expenses paid:False, double happiness:False\n",
      "OPPORTUNITY to join Amazon\n",
      "Meet Normal Requirements\n",
      "May save or sell.\n",
      "  type:occupation, border square:Amazon, expenses paid:False, double happiness:False\n",
      "OPPORTUNITY KNOCKS\n",
      "Advance to the nearest OPPORTUNITY square and roll again\n",
      "May save or sell.\n",
      "  type:opportunity, border square:Opportunity, expenses paid:False, double happiness:False\n",
      "OPPORTUNITY to join Lister & Bacon\n",
      "Meet Normal Requirements\n",
      "May save or sell.\n",
      "  type:occupation, border square:ListerAndBacon, expenses paid:False, double happiness:False\n",
      "GOLDEN  OPPORTUNITY to advance to ANY border square\n",
      "*meet normal requirements for Occupation or College entrance*\n",
      "May save or sell.\n",
      "  type:border_square_choice, border square:None, expenses paid:False, double happiness:False\n",
      "SPECIAL OPPORTUNITY to buy needed padding! Advance to EXPERIENCE square and buy at least 1 and up to 3 EXPERIENCE cards.\n",
      "May save or sell.\n",
      "  type:border_square, border square:BuyExperience, expenses paid:False, double happiness:False\n",
      "Get out of Unemployment free<p/>Play this card to immediately leave Unemployment.\n",
      "May save or sell.\n",
      "  type:action:leave_unemployment, border square:None, expenses paid:False, double happiness:False\n",
      "OPPORTUNITY to enter the University of Florida\n",
      "Meet Normal Requirements\n",
      "May save or sell.\n",
      "  type:occupation, border square:UF, expenses paid:False, double happiness:False\n",
      "SPECIAL OPPORTUNITY to gain EXPERIENCE!\n",
      "Collect one randomly selected EXPERIENCE card from each player.\n",
      "May save or sell.\n",
      "  type:action:collect_experience, border square:None, expenses paid:False, double happiness:False\n",
      "SPECIAL OPPORTUNITY to collect needed cash!\n",
      "Advance to PAYDAY and collect DOUBLE your annual salary.\n",
      "May save or sell.\n",
      "  type:border_square, border square:Payday, expenses paid:False, double happiness:False\n",
      "SPECIAL OPPORTUNITY to Get an Extra Turn\n",
      "Play at the start of your turn\n",
      "May save or sell.\n",
      "  type:action:extra_turn, border square:None, expenses paid:False, double happiness:False\n",
      "OPPORTUNITY KNOCKS\n",
      "Advance to the nearest OPPORTUNITY square and roll again\n",
      "May save or sell.\n",
      "  type:opportunity, border square:Opportunity, expenses paid:False, double happiness:False\n",
      "OPPORTUNITY to buy Insurance\n",
      "Advance to the Insurance Store and pay $5,000 premium\n",
      "May save or sell.\n",
      "  type:border_square, border square:BuyInsurance, expenses paid:False, double happiness:False\n",
      "OPPORTUNITY to join SpaceX\n",
      "Meet Normal Requirements\n",
      "May save or sell.\n",
      "  type:occupation, border square:SpaceX, expenses paid:False, double happiness:False\n",
      "Get out of Unemployment free<p/>Play this card to immediately leave Unemployment.\n",
      "May save or sell.\n",
      "  type:action:leave_unemployment, border square:None, expenses paid:False, double happiness:False\n",
      "OPPORTUNITY to join ESPN\n",
      "Meet Normal Requirements\n",
      "May save or sell.\n",
      "  type:occupation, border square:ESPN, expenses paid:False, double happiness:False\n",
      "OPPORTUNITY KNOCKS\n",
      "Advance to the nearest OPPORTUNITY square and roll again\n",
      "May save or sell.\n",
      "  type:opportunity, border square:Opportunity, expenses paid:False, double happiness:False\n",
      "OPPORTUNITY to join Lister & Bacon\n",
      "Meet Normal Requirements\n",
      "May save or sell.\n",
      "  type:occupation, border square:ListerAndBacon, expenses paid:False, double happiness:False\n",
      "SPECIAL OPPORTUNITY to enter College on Scholarship, all expenses paid.\n",
      "May save or sell.\n",
      "  type:occupation, border square:UF, expenses paid:True, double happiness:False\n",
      "OPPORTUNITY to go on Spring Break!\n",
      "May save or sell.\n",
      "  type:border_square, border square:SpringBreak, expenses paid:False, double happiness:False\n",
      "OPPORTUNITY to join Google\n",
      "Meet Normal Requirements\n",
      "May save or sell.\n",
      "  type:occupation, border square:Google, expenses paid:False, double happiness:False\n",
      "OPPORTUNITY to join Google\n",
      "Meet Normal Requirements\n",
      "May save or sell.\n",
      "  type:occupation, border square:Google, expenses paid:False, double happiness:False\n",
      "TRAVEL OPPORTUNITY Advance to the nearest Amtrak Station and roll again.\n",
      "May save or sell.\n",
      "  type:travel, border square:Amtrak, expenses paid:False, double happiness:False\n",
      "SPECIAL OPPORTUNITY to join ESPN  because of your sports knowledge.\n",
      "All expenses paid and no prior experience required.\n",
      "May save or sell.\n",
      "  type:occupation, border square:ESPN, expenses paid:True, double happiness:False\n",
      "SPECIAL OPPORTUNITY to Get an Extra Turn\n",
      "Play at the start of your turn\n",
      "May save or sell.\n",
      "  type:action:extra_turn, border square:None, expenses paid:False, double happiness:False\n",
      "SPECIAL OPPORTUNITY to join Disney because of your Magic touch.\n",
      "DOUBLE all Happiness earned\n",
      "Meet Normal Requirements\n",
      "May save or sell.\n",
      "  type:occupation, border square:Disney, expenses paid:False, double happiness:True\n",
      "OPPORTUNITY to join FMC\n",
      "Meet Normal Requirements\n",
      "May save or sell.\n",
      "  type:occupation, border square:FMC, expenses paid:False, double happiness:False\n",
      "OPPORTUNITY to join Amazon\n",
      "Meet Normal Requirements\n",
      "May save or sell.\n",
      "  type:occupation, border square:Amazon, expenses paid:False, double happiness:False\n",
      "OPPORTUNITY to join Lister & Bacon\n",
      "Meet Normal Requirements\n",
      "May save or sell.\n",
      "  type:occupation, border square:ListerAndBacon, expenses paid:False, double happiness:False\n",
      "SPECIAL OPPORTUNITY to join SpaceX because of your technical brilliance.\n",
      "All expenses paid and no prior experience required.\n",
      "May save or sell.\n",
      "  type:occupation, border square:SpaceX, expenses paid:True, double happiness:False\n",
      "SPECIAL OPPORTUNITY to collect needed cash!\n",
      "Advance to PAYDAY and collect DOUBLE your annual salary.\n",
      "May save or sell.\n",
      "  type:border_square, border square:Payday, expenses paid:False, double happiness:False\n",
      "OPPORTUNITY to join Disney\n",
      "Meet Normal Requirements\n",
      "May save or sell.\n",
      "  type:occupation, border square:Disney, expenses paid:False, double happiness:False\n",
      "TRAVEL OPPORTUNITY Advance to the nearest Amtrak Station and roll again.\n",
      "May save or sell.\n",
      "  type:travel, border square:Amtrak, expenses paid:False, double happiness:False\n",
      "OPPORTUNITY to join Pfizer\n",
      "Meet Normal Requirements\n",
      "May save or sell.\n",
      "  type:occupation, border square:Pfizer, expenses paid:False, double happiness:False\n",
      "OPPORTUNITY to buy Insurance\n",
      "Advance to the Insurance Store and pay $5,000 premium\n",
      "May save or sell.\n",
      "  type:border_square, border square:BuyInsurance, expenses paid:False, double happiness:False\n",
      "OPPORTUNITY to buy Insurance\n",
      "Advance to the Insurance Store and pay $5,000 premium\n",
      "May save or sell.\n",
      "  type:border_square, border square:BuyInsurance, expenses paid:False, double happiness:False\n",
      "OPPORTUNITY to join FMC\n",
      "Meet Normal Requirements\n",
      "May save or sell.\n",
      "  type:occupation, border square:FMC, expenses paid:False, double happiness:False\n",
      "OPPORTUNITY to enter the University of Florida\n",
      "Meet Normal Requirements\n",
      "May save or sell.\n",
      "  type:occupation, border square:UF, expenses paid:False, double happiness:False\n",
      "OPPORTUNITY to join ESPN\n",
      "Meet Normal Requirements\n",
      "May save or sell.\n",
      "  type:occupation, border square:ESPN, expenses paid:False, double happiness:False\n",
      "OPPORTUNITY to join Pfizer\n",
      "Meet Normal Requirements\n",
      "May save or sell.\n",
      "  type:occupation, border square:Pfizer, expenses paid:False, double happiness:False\n",
      "OPPORTUNITY to buy Insurance\n",
      "Advance to the Insurance Store and pay $5,000 premium\n",
      "May save or sell.\n",
      "  type:border_square, border square:BuyInsurance, expenses paid:False, double happiness:False\n",
      "SPECIAL OPPORTUNITY to Get an Extra Turn\n",
      "Play at the start of your turn\n",
      "May save or sell.\n",
      "  type:action:extra_turn, border square:None, expenses paid:False, double happiness:False\n",
      "OPPORTUNITY to go on Spring Break!\n",
      "May save or sell.\n",
      "  type:border_square, border square:SpringBreak, expenses paid:False, double happiness:False\n",
      "TRAVEL OPPORTUNITY Advance to the nearest Amtrak Station and roll again.\n",
      "May save or sell.\n",
      "  type:travel, border square:Amtrak, expenses paid:False, double happiness:False\n",
      "OPPORTUNITY to Gamble in Las Vegas\n",
      "May save or sell.\n",
      "  type:border_square, border square:GambleInVegas, expenses paid:False, double happiness:False\n",
      "SPECIAL OPPORTUNITY to Get an Extra Turn\n",
      "Play at the start of your turn\n",
      "May save or sell.\n",
      "  type:action:extra_turn, border square:None, expenses paid:False, double happiness:False\n",
      "OPPORTUNITY to join Facebook\n",
      "Meet Normal Requirements\n",
      "May save or sell.\n",
      "  type:occupation, border square:Facebook, expenses paid:False, double happiness:False\n",
      "OPPORTUNITY to enter the University of Florida\n",
      "Meet Normal Requirements\n",
      "May save or sell.\n",
      "  type:occupation, border square:UF, expenses paid:False, double happiness:False\n",
      "TRAVEL OPPORTUNITY Advance to the nearest Amtrak Station and roll again.\n",
      "May save or sell.\n",
      "  type:travel, border square:Amtrak, expenses paid:False, double happiness:False\n",
      "SPECIAL OPPORTUNITY to buy needed padding! Advance to EXPERIENCE square and buy at least 1 and up to 3 EXPERIENCE cards.\n",
      "May save or sell.\n",
      "  type:border_square, border square:BuyExperience, expenses paid:False, double happiness:False\n",
      "SPECIAL OPPORTUNITY to Get an Extra Turn\n",
      "Play at the start of your turn\n",
      "May save or sell.\n",
      "  type:action:extra_turn, border square:None, expenses paid:False, double happiness:False\n",
      "SPECIAL OPPORTUNITY to enter College on Scholarship, all expenses paid.\n",
      "May save or sell.\n",
      "  type:occupation, border square:UF, expenses paid:True, double happiness:False\n",
      "SPECIAL OPPORTUNITY to join Disney because of your Magic touch.\n",
      "DOUBLE all Happiness earned\n",
      "Meet Normal Requirements\n",
      "May save or sell.\n",
      "  type:occupation, border square:Disney, expenses paid:False, double happiness:True\n",
      "OPPORTUNITY to join Amazon\n",
      "Meet Normal Requirements\n",
      "May save or sell.\n",
      "  type:occupation, border square:Amazon, expenses paid:False, double happiness:False\n",
      "Get out of Unemployment free<p/>Play this card to immediately leave Unemployment.\n",
      "May save or sell.\n",
      "  type:action:leave_unemployment, border square:None, expenses paid:False, double happiness:False\n",
      "SPECIAL OPPORTUNITY to Get an Extra Turn\n",
      "Play at the start of your turn\n",
      "May save or sell.\n",
      "  type:action:extra_turn, border square:None, expenses paid:False, double happiness:False\n",
      "SPECIAL OPPORTUNITY to join Facebook  because of your problem solving skills.\n",
      "All expenses paid and no prior experience required.\n",
      "May save or sell.\n",
      "  type:occupation, border square:Facebook, expenses paid:True, double happiness:False\n",
      "SPECIAL OPPORTUNITY to gain EXPERIENCE!\n",
      "Collect one randomly selected EXPERIENCE card from each player.\n",
      "May save or sell.\n",
      "  type:action:collect_experience, border square:None, expenses paid:False, double happiness:False\n",
      "OPPORTUNITY to go on Spring Break!\n",
      "May save or sell.\n",
      "  type:border_square, border square:SpringBreak, expenses paid:False, double happiness:False\n",
      "GOLDEN  OPPORTUNITY to join the Company of your choice\n",
      "Meet Normal Requirements\n",
      "May save or sell.\n",
      "  type:occupation_choice, border square:None, expenses paid:False, double happiness:False\n",
      "OPPORTUNITY to join FMC\n",
      "Meet Normal Requirements\n",
      "May save or sell.\n",
      "  type:occupation, border square:FMC, expenses paid:False, double happiness:False\n",
      "OPPORTUNITY to Gamble in Las Vegas\n",
      "May save or sell.\n",
      "  type:border_square, border square:GambleInVegas, expenses paid:False, double happiness:False\n",
      "SPECIAL OPPORTUNITY to join Google because of your technical brilliance. \n",
      "All expenses paid and no prior experience required.\n",
      "May save or sell.\n",
      "  type:occupation, border square:Google, expenses paid:True, double happiness:False\n",
      "OPPORTUNITY to join Facebook\n",
      "Meet Normal Requirements\n",
      "May save or sell.\n",
      "  type:occupation, border square:Facebook, expenses paid:False, double happiness:False\n",
      "OPPORTUNITY to join Pfizer\n",
      "Meet Normal Requirements\n",
      "May save or sell.\n",
      "  type:occupation, border square:Pfizer, expenses paid:False, double happiness:False\n",
      "OPPORTUNITY to Gamble in Las Vegas\n",
      "May save or sell.\n",
      "  type:border_square, border square:GambleInVegas, expenses paid:False, double happiness:False\n",
      "OPPORTUNITY to go on Spring Break!\n",
      "May save or sell.\n",
      "  type:border_square, border square:SpringBreak, expenses paid:False, double happiness:False\n",
      "SPECIAL OPPORTUNITY to collect needed cash!\n",
      "Advance to PAYDAY and collect DOUBLE your annual salary.\n",
      "May save or sell.\n",
      "  type:border_square, border square:Payday, expenses paid:False, double happiness:False\n",
      "GOLDEN  OPPORTUNITY to join the Company of your choice\n",
      "Meet Normal Requirements\n",
      "May save or sell.\n",
      "  type:occupation_choice, border square:None, expenses paid:False, double happiness:False\n",
      "GOLDEN  OPPORTUNITY to advance to ANY border square\n",
      "*meet normal requirements for Occupation or College entrance*\n",
      "May save or sell.\n",
      "  type:border_square_choice, border square:None, expenses paid:False, double happiness:False\n",
      "OPPORTUNITY to join SpaceX\n",
      "Meet Normal Requirements\n",
      "May save or sell.\n",
      "  type:occupation, border square:SpaceX, expenses paid:False, double happiness:False\n",
      "Get out of Unemployment free<p/>Play this card to immediately leave Unemployment.\n",
      "May save or sell.\n",
      "  type:action:leave_unemployment, border square:None, expenses paid:False, double happiness:False\n"
     ]
    }
   ],
   "source": [
    "for i in range(0, card_deck.size):\n",
    "    card = card_deck.draw()\n",
    "    print(f'{card.text}\\n  type:{card.opportunity_type}, border square:{card.border_square}, expenses paid:{card.expenses_paid}, double happiness:{card.double_happiness}')"
   ]
  },
  {
   "cell_type": "code",
   "execution_count": 3,
   "metadata": {},
   "outputs": [],
   "source": [
    "from careers.game import GameRunner"
   ]
  },
  {
   "cell_type": "code",
   "execution_count": 6,
   "metadata": {},
   "outputs": [],
   "source": [
    "game_runner = GameRunner(100)\n",
    "game_runner.add_player('Don', 'DWB', stars=40, hearts=10, cash=50)\n",
    "game_runner.add_player('Scott','SFP', stars=20, hearts=40, cash=40)\n"
   ]
  },
  {
   "cell_type": "code",
   "execution_count": 7,
   "metadata": {},
   "outputs": [
    {
     "name": "stdout",
     "output_type": "stream",
     "text": [
      "20220821_1200  Starting game: 20220821_1200_2473\n",
      "\n",
      "DWB (1): where am i\n",
      "20220821_1200  DWB: where am i []\n",
      "\n",
      "execute self.where(\"am\",\"i\")\n",
      "20220821_1200    DWB results: 0 You are on square# 0: Payday\n",
      "\n",
      "You are on square# 0: Payday\n",
      "DWB (1): goto 3\n",
      "20220821_1200  DWB: goto 3 []\n",
      "\n",
      "execute self.goto(3)\n",
      "20220821_1200    DWB results: 0 You are on square# 3: Amtrak\n",
      "\n",
      "You are on square# 3: Amtrak\n",
      "DWB (1): goto 7\n",
      "20220821_1201  DWB: goto 7 []\n",
      "\n",
      "execute self.goto(7)\n",
      "20220821_1201    DWB results: 0 You are on square# 7: UF\n",
      "\n",
      "You are on square# 7: UF\n",
      "DWB (1): status\n",
      "20220821_1201  DWB: status []\n",
      "\n",
      "execute self.status()\n",
      "20220821_1201    DWB results: 0 salary:2000, Cash: 2000,  Fame: 0,  Happiness: 0\n",
      "Success Formula: Money: $50,000  Fame: 40  Happiness: 10\n",
      "\n",
      "salary:2000, Cash: 2000,  Fame: 0,  Happiness: 0\n",
      "Success Formula: Money: $50,000  Fame: 40  Happiness: 10\n",
      "DWB (1): enter UF 4\n",
      "20220821_1201  DWB: enter UF 4 []\n",
      "\n",
      "execute self.enter(\"UF\",4)\n",
      "20220821_1201    DWB results: 1 Invalid command\n",
      "\n",
      "Invalid command\n",
      "DWB (1): status\n",
      "20220821_1201  DWB: status []\n",
      "\n",
      "execute self.status()\n",
      "20220821_1201    DWB results: 0 salary:2000, Cash: 2000,  Fame: 0,  Happiness: 0\n",
      "Success Formula: Money: $50,000  Fame: 40  Happiness: 10\n",
      "\n",
      "salary:2000, Cash: 2000,  Fame: 0,  Happiness: 0\n",
      "Success Formula: Money: $50,000  Fame: 40  Happiness: 10\n",
      "DWB (1): goto 9\n",
      "20220821_1201  DWB: goto 9 []\n",
      "\n",
      "execute self.goto(9)\n",
      "20220821_1201    DWB results: 0 You are on square# 9: Hospital\n",
      "\n",
      "You are on square# 9: Hospital\n",
      "DWB (1): quit\n",
      "20220821_1203  DWB: quit []\n",
      "\n",
      "execute self.quit()\n",
      "20220821_1203    DWB results: 2 Game is complete\n",
      "\n",
      "Game is complete\n",
      "20220821_1203  Ending game: 20220821_1200_2473\n",
      "\n"
     ]
    }
   ],
   "source": [
    "game_runner.run_game()"
   ]
  },
  {
   "cell_type": "code",
   "execution_count": null,
   "metadata": {},
   "outputs": [],
   "source": []
  }
 ],
 "metadata": {
  "kernelspec": {
   "display_name": "Python 3",
   "language": "python",
   "name": "python3"
  },
  "language_info": {
   "codemirror_mode": {
    "name": "ipython",
    "version": 3
   },
   "file_extension": ".py",
   "mimetype": "text/x-python",
   "name": "python",
   "nbconvert_exporter": "python",
   "pygments_lexer": "ipython3",
   "version": "3.9.7"
  }
 },
 "nbformat": 4,
 "nbformat_minor": 4
}
